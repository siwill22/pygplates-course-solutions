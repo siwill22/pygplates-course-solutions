{
 "cells": [
  {
   "cell_type": "markdown",
   "metadata": {
    "deletable": true,
    "editable": true
   },
   "source": [
    "# Accessing and analysing web resources with pygplates\n",
    "\n",
    "### Overview\n",
    "\n",
    "This notebook goes through the steps of\n",
    "- accessing geoscientific data directly from web servers and loading into python\n",
    "- converting these data into a GPlates-compatible version\n",
    "- carrying out spatial analysis that compares fossil occurences to the locations of interpreted paleoshorelines through geological time\n",
    "\n",
    "\n",
    "### Part 1\n",
    "\n",
    "The first part of this exercise goes through the actions of getting data sets directly from web services, and loading them into your python workspace. \n",
    "\n",
    "Let's start by doing something that has nothing to do with GPlates whatsoever. We use a python module called 'requests' to make a request to a web service run by the USGS, and load the data into a pandas dataframe (the function 'StringIO' is also used to help pandas recognise the data stream that comes back from the USGS web service as something resembling a csv file).\n",
    "\n",
    "Note that when you run the next cell, you will have to wait for a while as the data is downloaded.\n",
    "\n",
    "To quickly see what is in returned data, we can print the resulting text, which reveals a stream of data in csv format.\n"
   ]
  },
  {
   "cell_type": "code",
   "execution_count": 1,
   "metadata": {
    "collapsed": false,
    "deletable": true,
    "editable": true,
    "jupyter": {
     "outputs_hidden": false
    }
   },
   "outputs": [
    {
     "name": "stdout",
     "output_type": "stream",
     "text": [
      "time,latitude,longitude,depth,mag,magType,nst,gap,dmin,rms,net,id,updated,place,type,horizontalError,depthError,magError,magNst,status,locationSource,magSource\n",
      "2016-12-29T22:30:19.300Z,-9.0279,118.6639,79,6.3,mww,,26,3.553,1.42,us,us10007nl0,2020-07-10T15:19:10.234Z,\"29km S of Tolotangga, Indonesia\",earthquake,6.2,1.8,,,reviewed,us,us\n",
      "2016-12-28T12:38:49.650Z,36.8604,140.4421,7,5.9,mww,,33,1.044,0.91,us,us10007naf,2020-07-10T15:18:56.613Z,\"13km NE of Daigo, Japan\",earthquake,4.6,1.7,,,reviewed,us,us\n",
      "2016-12-28T09:13:47.243Z,38.3777,-118.8957,8.8,5.5,ml,33,48.58,0.129,0.2187,nn,nn00570744,2020-05-21T01:43:17.438Z,\"28km SW of Hawthorne, Nevada\",earthquake,,2,0.26,18,reviewed,nn,nn\n",
      "2016-12-28T08:22:12.208Z,38.3904,-118.8972,12.2,5.6,ml,43,42.44,0.123,0.1913,nn,nn00570710,2018-07-02T18:09:31.575Z,\"26km SW of Hawthorne, Nevada\",earthquake,,1.2,0.32,18,reviewed,nn,nn\n",
      "2016-12-28T08:18:00.613Z,38.3755,-118.8989,11.3,5.6,ml,37,35.89,0.133,0.1599,nn,nn00570709,2020-07-10T14:27:55.840Z,\"27km SW of Hawthorne, Nevada\",earthquake,,1,0.35,20,reviewed,nn,nn\n",
      "2016-12-27T23:20:56.100Z,45.7144,26.5283,97,5.6,mww,,14,0.466,0.8,us,us10007n3r,2020-07-10T15:18:45.531Z,\"14km W of Nereju, Romania\",earthquake,4.3,1.8,,,reviewed,us,us\n",
      "2016-12-25T14:22:27.010Z,-43.4064,-73.9413,38,7.6,mww,,29,0.355,0.79,us,us10007mn3,2021-01-29T00:57:34.710Z,\"41km SW of Puerto Quellon, Chile\",earthquake,5.4,1.9,,,reviewed,us,us\n",
      "2016-12-24T03:58:54.680Z,-5.146,153.5166,30,5.8,mww,,14,1.648,0.85,us,us10007mfp,2017-03-23T22:52:00.040Z,\"92km SE of Taron, Papua New Guinea\",earthquake,7,1.8,,,reviewed,us,us\n",
      "2016-12-24T01:32:16.040Z,-5.2453,153.5754,35,6,mww,,13,1.753,0.91,us,us10007mf5,2017-03-23T22:52:00.040Z,\"105km SE of Taron, Papua New Guinea\",earthquake,6.9,1.9,,,reviewed,us,us\n",
      "2016-12-21T16:43:56.770Z,21.5138,145.4081,8,5.9,mww,,21,6.249,0.86,us,us10007lqe,2017-03-16T02:31:32.040Z,\"120km NNE of Farallon de Pajaros, Northern Mariana Islands\",earthquake,7,1,,,reviewed,us,us\n",
      "2016-12-21T00:17:14.990Z,-7.5082,127.9206,152,6.7,mww,,17,3.38,1.2,us,us10007lkw,2020-07-10T15:17:52.442Z,\"283km ENE of Dili, East Timor\",earthquake,5.3,1.8,,,reviewed,us,us\n",
      "2016-12-20T12:33:14.240Z,-10.1785,160.9149,10,6,mww,,14,1.204,0.88,us,us200082tk,2020-07-10T16:39:41.163Z,\"114km WNW of Kirakira, Solomon Islands\",earthquake,5.7,1.6,,,reviewed,us,us\n",
      "2016-12-20T04:21:29.150Z,-10.175,161.2271,20,6.4,mww,,21,1.458,0.87,us,us200082pp,2020-07-10T16:39:19.145Z,\"81km WNW of Kirakira, Solomon Islands\",earthquake,8,1.7,,,reviewed,us,us\n",
      "2016-12-18T13:30:10.680Z,-9.9738,-70.9698,612,6.4,mww,,11,2.812,0.74,us,us200082an,2020-07-08T13:05:26.166Z,\"201km S of Tarauaca, Brazil\",earthquake,9,1.9,,,reviewed,us,us\n",
      "2016-12-18T09:47:06.130Z,8.3725,137.6736,19,6.2,mww,,16,8.76,1.06,us,us2000828l,2017-03-16T02:31:27.040Z,\"22km ESE of Ngulu, Micronesia\",earthquake,8.2,1.7,,,reviewed,us,us\n",
      "2016-12-18T06:39:42.830Z,-6.2997,154.3512,12,5.9,mww,,25,3.022,0.85,us,us2000826m,2017-03-16T02:31:27.040Z,\"125km W of Panguna, Papua New Guinea\",earthquake,6.6,1.7,,,reviewed,us,us\n",
      "2016-12-18T05:46:25.130Z,-10.2342,161.1989,39,5.9,mww,,13,1.464,0.79,us,us2000825r,2020-07-10T16:38:57.823Z,\"82km WNW of Kirakira, Solomon Islands\",earthquake,5.5,1.8,,,reviewed,us,us\n",
      "2016-12-17T11:27:36.170Z,-5.6291,154.0216,8.43,6.3,mww,,31,2.338,0.84,us,us200081w0,2020-07-10T16:38:46.653Z,\"168km SE of Taron, Papua New Guinea\",earthquake,8.3,3.2,,,reviewed,us,us\n",
      "2016-12-17T10:51:10.500Z,-4.5049,153.5216,94.54,7.9,mww,,13,1.389,0.97,us,us200081v8,2020-07-10T16:38:16.550Z,\"54km E of Taron, Papua New Guinea\",earthquake,7.3,3.8,,,reviewed,us,us\n",
      "2016-12-16T11:34:58.440Z,14.0889,-90.8703,70.61,5.5,mww,,63,1.366,1.27,us,us2000819r,2020-07-10T16:37:54.968Z,\"12km S of Masagua, Guatemala\",earthquake,6.6,3.7,,,reviewed,us,us\n",
      "2016-12-14T16:41:05.530Z,38.8221667,-122.8413333,1.48,5.01,mw,85,26,0.01351,0.06,nc,nc72737985,2020-05-21T01:30:54.745Z,\"8km NW of The Geysers, California\",earthquake,0.08,0.1,,6,reviewed,nc,nc\n",
      "2016-12-14T11:58:39.840Z,35.5606667,-120.805,4.59,3.95,mw,83,43,0.06757,0.07,nc,nc72737765,2017-03-18T00:09:39.958Z,\"9km W of Templeton, California\",earthquake,0.13,0.43,,4,reviewed,nc,nc\n",
      "2016-12-14T02:01:22.810Z,21.2897,144.4037,22.37,6,mww,,18,6.124,1.01,us,us200080m3,2017-03-09T02:14:30.040Z,\"97km NNW of Farallon de Pajaros, Northern Mariana Islands\",earthquake,7.3,1.8,,,reviewed,us,us\n",
      "2016-12-11T14:33:12.900Z,-9.1237,-109.8492,10,5.8,mww,,79,21.207,0.87,us,us20007zz8,2017-03-09T02:14:27.040Z,\"Central East Pacific Rise\",earthquake,13.3,1.8,,,reviewed,us,us\n",
      "2016-12-10T16:24:34.970Z,-5.6593,154.4734,142.58,6,mww,,13,2.724,0.8,us,us20007ztn,2020-07-10T16:37:30.081Z,\"132km WNW of Arawa, Papua New Guinea\",earthquake,8.6,3.9,,,reviewed,us,us\n",
      "2016-12-10T02:45:39.870Z,-10.8829,161.2789,7.66,5.8,mww,,26,1.943,0.88,us,us20007zq6,2017-03-09T02:14:25.040Z,\"84km SW of Kirakira, Solomon Islands\",earthquake,8.1,3,,,reviewed,us,us\n",
      "2016-12-09T21:38:23.240Z,-10.9552,161.3591,10,5.8,mww,,17,2.049,0.64,us,us20007zn7,2017-03-09T02:14:25.040Z,\"82km SW of Kirakira, Solomon Islands\",earthquake,6.3,1.7,,,reviewed,us,us\n",
      "2016-12-09T19:43:24.070Z,-10.9694,161.3076,18.38,5.9,mww,,52,2.026,0.76,us,us20007zm1,2017-03-09T02:14:25.040Z,\"87km SW of Kirakira, Solomon Islands\",earthquake,6.6,3.3,0.061,26,reviewed,us,us\n",
      "2016-12-09T19:10:06.840Z,-10.749,161.1316,19.73,6.9,mww,,26,1.747,0.88,us,us20007zlq,2020-07-10T16:36:47.585Z,\"92km WSW of Kirakira, Solomon Islands\",earthquake,7,2.6,,,reviewed,us,us\n",
      "2016-12-08T21:56:07.500Z,-10.8416,161.3137,12.26,6.5,mww,,18,1.937,0.98,us,us20007zbn,2020-07-10T16:36:33.519Z,\"79km WSW of Kirakira, Solomon Islands\",earthquake,7.1,1.5,,,reviewed,us,us\n",
      "2016-12-08T17:46:23.630Z,-10.2234,161.0792,35,5.7,mb,,211,1.36,1.27,us,us200081as,2020-07-10T16:38:06.068Z,\"95km WNW of Kirakira, Solomon Islands\",earthquake,5.7,2,0.12,25,reviewed,us,us\n",
      "2016-12-08T17:38:46.280Z,-10.6812,161.3273,40,7.8,mww,,13,1.836,0.88,us,us20007z80,2020-07-10T16:36:11.529Z,\"69km WSW of Kirakira, Solomon Islands\",earthquake,8.3,1.8,,,reviewed,us,us\n",
      "2016-12-08T14:49:45.910Z,40.4535,-126.1936,8.45,6.6,mww,,55,1.405,1.11,us,us20007z6r,2019-06-23T05:05:55.304Z,\"164km W of Ferndale, California\",earthquake,6.1,2.4,,,reviewed,us,us\n",
      "2016-12-08T05:15:04.600Z,43.8229,86.3451,17.55,6,mww,,25,4.123,0.82,us,us20007z2r,2020-07-10T16:35:51.387Z,\"58km SSE of Shihezi, China\",earthquake,7.4,2.9,,,reviewed,us,us\n",
      "2016-12-06T22:03:33.390Z,5.2834,96.1678,13,6.5,mww,,27,0.778,1.13,us,us10007ghm,2020-07-10T15:17:17.924Z,\"14km WNW of Reuleuet, Indonesia\",earthquake,5.6,0.2,,,reviewed,us,us\n",
      "2016-12-06T21:42:20.760Z,11.0316,-60.9005,31.75,5.9,mww,,29,1.319,1.22,us,us10007ggp,2020-07-10T15:17:06.982Z,\"24km SW of Scarborough, Trinidad and Tobago\",earthquake,6.2,3.2,,,reviewed,us,us\n",
      "2016-12-05T14:29:54.300Z,17.919,-65.8795,4,4.6,Ml,18,205.2,0.22098556,0.46,pr,pr16340016,2017-03-03T07:06:03.040Z,\"9km S of Emajagua, Puerto Rico\",earthquake,1,0.8,0,15,reviewed,pr,pr\n",
      "2016-12-05T01:13:04.880Z,-7.3158,123.3802,526,6.3,mww,,14,1.732,1.03,us,us10007ev8,2017-03-03T07:06:02.040Z,\"147km NNE of Palue, Indonesia\",earthquake,5.6,1.9,,,reviewed,us,us\n",
      "2016-12-04T05:24:05.400Z,4.5051,127.8342,139,5.7,mww,,42,3.394,0.69,us,us10007er7,2017-03-03T07:06:01.040Z,\"275km SE of Pondaguitan, Philippines\",earthquake,7.6,1.9,,,reviewed,us,us\n",
      "2016-12-03T09:23:34.980Z,52.2532,174.1698,28.42,5.9,mww,,46,0.479,0.83,us,us10007ekb,2019-06-17T22:33:57.737Z,\"52km S of Shemya Island, Alaska\",earthquake,6.4,3,,,reviewed,us,us\n",
      "2016-12-01T22:40:26.610Z,-15.3122,-70.827,12,6.2,mww,,43,2.455,1.11,us,us10007e55,2020-07-10T15:16:49.392Z,\"44km NE of Huarichancara, Peru\",earthquake,6.2,1.7,,,reviewed,us,us\n",
      "2016-11-30T02:42:14.990Z,-6.9865,131.8204,24,5.7,mww,,48,1.116,0.95,us,us10007d73,2017-02-23T00:11:53.040Z,\"120km NNE of Saumlaki, Indonesia\",earthquake,5.8,1.8,,,reviewed,us,us\n",
      "2016-11-27T23:35:21.020Z,27.8015,86.5319,10,5.4,mb,,30,1.081,0.67,us,us10007cuh,2019-07-12T20:07:35.290Z,\"17km W of Namche Bazar, Nepal\",earthquake,5.3,1.7,0.033,314,reviewed,us,us\n",
      "2016-11-25T14:24:30.710Z,39.2732,73.9776,17,6.6,mww,,20,1.697,0.88,us,us10007ca5,2020-07-10T15:15:41.076Z,\"47km NE of Karakul, Tajikistan\",earthquake,5.9,1.7,,,reviewed,us,us\n",
      "2016-11-24T18:43:47.710Z,11.9097,-88.8968,10,6.9,mww,,20,1.796,1.02,us,us10007c4w,2017-02-15T23:21:39.040Z,\"156km SSW of Puerto El Triunfo, El Salvador\",earthquake,5.6,1.6,,,reviewed,us,us\n",
      "2016-11-23T21:23:36.900Z,37.2143,141.3209,9,5.9,mww,,28,0.778,0.82,us,us10007bwb,2020-07-10T15:15:13.505Z,\"41km SE of Namie, Japan\",earthquake,4.7,1.7,,,reviewed,us,us\n",
      "2016-11-23T09:59:57.210Z,27.1773,140.025,481,5.8,mww,,18,1.926,0.75,us,us10007br5,2017-02-15T23:21:37.040Z,\"217km W of Chichi-shima, Japan\",earthquake,8.9,1.9,,,reviewed,us,us\n",
      "2016-11-22T00:19:43.020Z,-40.602,177.0387,9.08,5.9,mww,,57,0.608,0.94,us,us10007ba5,2017-02-15T23:21:33.040Z,\"76km ENE of Castlepoint, New Zealand\",earthquake,7.3,3.5,,,reviewed,us,us\n",
      "2016-11-21T20:59:49.270Z,37.3931,141.387,9,6.9,mww,,10,0.671,0.77,us,us10007b88,2020-07-10T15:14:44.971Z,\"35km ESE of Namie, Japan\",earthquake,5.2,1.7,,,reviewed,us,us\n",
      "2016-11-20T20:57:44.000Z,-31.6226,-68.6259,108,6.4,mww,,59,0.091,0.98,us,us10007az5,2021-01-20T01:25:59.741Z,\"7km NNW of Pocito, Argentina\",earthquake,5,1.8,,,reviewed,us,us\n",
      "2016-11-16T15:10:11.020Z,-9.0027,113.2445,85,5.7,mww,,33,1.041,1.08,us,us100078vh,2017-02-09T03:02:31.040Z,\"74km S of Kepanjen, Indonesia\",earthquake,6.7,1.8,,,reviewed,us,us\n",
      "2016-11-16T00:30:29.860Z,-20.2391,-173.0161,20,5.8,mww,,18,3.132,1.15,us,us100078ll,2017-02-09T03:02:30.040Z,\"147km ESE of Pangai, Tonga\",earthquake,7.9,1.8,,,reviewed,us,us\n",
      "2016-11-14T06:47:52.040Z,-42.3322,173.9026,12,5.7,mww,,29,0.282,0.87,us,us100077ky,2020-07-10T15:13:56.303Z,\"20km ENE of Kaikoura, New Zealand\",earthquake,3,1.7,,,reviewed,us,us\n",
      "2016-11-14T00:34:22.610Z,-42.6058,173.2543,9,6.5,mww,,56,0.283,1.05,us,us100077hw,2020-07-23T09:03:15.036Z,\"41km WSW of Kaikoura, New Zealand\",earthquake,4,1.7,,,reviewed,us,us\n",
      "2016-11-13T19:28:56.720Z,-42.3743,173.9374,10,5.7,mww,,134,0.298,1.25,us,us100077ef,2020-07-10T15:13:45.475Z,\"21km E of Kaikoura, New Zealand\",earthquake,4.6,1.9,,,reviewed,us,us\n",
      "2016-11-13T14:01:01.680Z,-28.8647,-67.4565,109.12,5.7,mwr,,27,2.471,0.63,us,us100077ap,2017-02-09T03:02:23.040Z,\"33km N of Chilecito, Argentina\",earthquake,6.8,2.6,0.071,19,reviewed,us,us\n",
      "2016-11-13T13:31:25.660Z,-42.3093,173.6961,2.09,6.2,mww,,61,0.157,0.64,us,us100077aj,2017-02-09T03:02:22.040Z,\"10km N of Kaikoura, New Zealand\",earthquake,3.6,3.1,,,reviewed,us,us\n",
      "2016-11-13T11:52:45.010Z,-42.1762,173.6227,13.99,6.1,mww,,64,0.247,1.1,us,us1000779b,2017-02-09T03:02:21.040Z,\"26km N of Kaikoura, New Zealand\",earthquake,4,2.6,,,reviewed,us,us\n",
      "2016-11-13T11:41:49.800Z,-41.6877,174.2061,14.59,5.7,mb,,40,0.061,1.11,us,us10007797,2020-07-10T15:13:23.646Z,\"28km SE of Blenheim, New Zealand\",earthquake,4.6,2.1,0.092,42,reviewed,us,us\n",
      "2016-11-13T11:33:45.790Z,-42.0511,174.3037,10.06,5.8,mb,,125,0.309,1.01,us,us10007ddw,2020-07-10T15:16:27.324Z,\"64km NE of Kaikoura, New Zealand\",earthquake,3.8,1.1,0.146,17,reviewed,us,us\n",
      "2016-11-13T11:32:06.540Z,-42.3205,173.6694,10,6.5,mww,,58,0.135,1.45,us,us10007795,2017-02-09T03:02:21.040Z,\"9km N of Kaikoura, New Zealand\",earthquake,4.4,1.7,,,reviewed,us,us\n",
      "2016-11-13T11:12:39.170Z,-42.4063,173.6606,9.91,5.7,mb,,79,0.709,1,us,us10007798,2020-07-10T15:13:34.749Z,\"1km W of Kaikoura, New Zealand\",earthquake,4.6,4.5,0.086,49,reviewed,us,us\n",
      "2016-11-13T11:02:56.340Z,-42.7373,173.054,15.11,7.8,mww,,21,0.481,0.56,us,us1000778i,2020-08-21T18:13:20.871Z,\"54km NNE of Amberley, New Zealand\",earthquake,4.6,3.2,,,reviewed,us,us\n",
      "2016-11-12T16:15:49.970Z,-24.966,178.7853,548,5.9,mww,,33,5.17,1.21,us,us1000774l,2017-02-09T03:02:20.040Z,\"South of the Fiji Islands\",earthquake,9.5,1.9,,,reviewed,us,us\n",
      "2016-11-11T21:42:59.650Z,38.4973,141.5658,42.4,6.1,mww,,22,0.876,1.05,us,us1000770m,2020-07-10T15:13:11.502Z,\"24km ENE of Ishinomaki, Japan\",earthquake,5.9,3.5,,,reviewed,us,us\n",
      "2016-11-10T12:24:10.030Z,-50.0472,114.3817,10,5.7,mwb,,50,16.4,0.88,us,us100076ma,2017-02-02T02:21:06.040Z,\"Western Indian-Antarctic Ridge\",earthquake,11.9,1.8,0.054,33,reviewed,us,us\n",
      "2016-11-09T14:50:59.680Z,-4.7403,149.8713,448.76,5.9,mww,,23,2.19,0.77,us,us100076hl,2017-02-02T02:21:05.040Z,\"94km NNW of Kimbe, Papua New Guinea\",earthquake,8.8,3.7,,,reviewed,us,us\n",
      "2016-11-08T04:55:45.900Z,-36.5776,-73.5603,20,6,mww,,54,0.342,0.82,us,us10007681,2020-07-10T15:13:00.804Z,\"42km WNW of Talcahuano, Chile\",earthquake,4.1,1.8,,,reviewed,us,us\n",
      "2016-11-08T03:09:25.410Z,-58.1134,148.1913,10,5.7,mww,,44,6.997,0.99,us,us1000767e,2017-02-02T02:21:03.040Z,\"West of Macquarie Island\",earthquake,10.7,1.7,,,reviewed,us,us\n",
      "2016-11-07T21:31:28.330Z,-8.11,104.8401,33,5.8,mww,,19,4.169,0.83,us,us10007659,2017-02-02T02:21:03.040Z,\"168km SSW of Cicadas, Indonesia\",earthquake,7.9,1.8,,,reviewed,us,us\n",
      "2016-11-07T01:44:24.500Z,35.9907,-96.803,4.43,5,mww,,52,,0.25,us,us100075y8,2020-08-25T22:30:15.287Z,\"3km W of Cushing, Oklahoma\",earthquake,0.5,1.8,,,reviewed,tul,us\n",
      "2016-11-04T16:20:44.440Z,-35.0945,-71.0457,90,6.3,mww,,34,0.371,1.06,us,us1000744u,2020-07-10T15:12:34.703Z,\"21km SE of Curico, Chile\",earthquake,6.1,1.8,,,reviewed,us,us\n",
      "2016-11-02T04:26:54.000Z,36.3047,-96.6657,4.349,4.4,mwr,,61,,1.15,us,us100073m6,2020-06-21T03:42:19.527Z,\"12km ESE of Pawnee, Oklahoma\",earthquake,2.3,5.3,0.034,85,reviewed,tul,us\n",
      "2016-11-01T19:03:30.100Z,-6.1039,148.6588,51.99,6,mww,,17,3.6,0.82,us,us100073jd,2020-07-10T15:12:23.952Z,\"99km W of Kandrian, Papua New Guinea\",earthquake,6.7,4.1,,,reviewed,us,us\n",
      "2016-10-31T00:20:11.640Z,3.4466,-74.4951,33,5.6,mww,,35,1.399,0.98,us,us1000735j,2020-07-10T15:12:03.349Z,\"34km ENE of Colombia, Colombia\",earthquake,1.3,1.7,,,reviewed,us,us\n",
      "2016-10-30T06:40:18.670Z,42.8621,13.0961,8,6.6,mww,,25,0.174,0.67,us,us1000731j,2020-07-10T15:11:47.171Z,\"7km N of Norcia, Italy\",earthquake,5.3,1.8,,,reviewed,us,us\n",
      "2016-10-28T20:02:49.760Z,39.3881,13.5205,457.86,5.8,mww,,17,1.822,0.76,us,us100072su,2017-02-12T22:50:29.537Z,\"80km NNE of Ustica, Italy\",earthquake,8,3.6,,,reviewed,us,us\n",
      "2016-10-28T05:26:55.910Z,-4.6721,153.2156,45.15,5.9,mww,,26,1.152,0.92,us,us100072jv,2020-07-10T15:11:36.197Z,\"30km SE of Taron, Papua New Guinea\",earthquake,6.2,4.4,,,reviewed,us,us\n",
      "2016-10-27T20:32:55.790Z,-33.7771,-72.5321,12.57,6,mww,,78,0.774,1.05,us,us100072gn,2017-01-20T00:31:10.040Z,\"86km WSW of San Antonio, Chile\",earthquake,4.2,2.7,,,reviewed,us,us\n",
      "2016-10-27T11:53:17.190Z,53.5855,-163.265,13.89,5.9,mww,,68,1.276,0.97,us,us100072bs,2019-06-17T20:10:48.821Z,\"141km S of False Pass, Alaska\",earthquake,6.9,3.3,,,reviewed,us,us\n",
      "2016-10-27T08:17:50.160Z,1.3702,125.758,61,5.8,mww,,33,1.714,0.96,us,us100072ai,2017-01-20T00:31:09.040Z,\"64km E of Bitung, Indonesia\",earthquake,6.4,1.9,,,reviewed,us,us\n",
      "2016-10-26T19:18:08.430Z,42.9564,13.0666,10,6.1,mww,,17,0.081,0.71,us,us1000725y,2020-07-10T15:11:09.242Z,\"3km NNW of Visso, Italy\",earthquake,4.7,1.7,,,reviewed,us,us\n",
      "2016-10-26T17:10:37.210Z,42.858,13.0528,6,5.5,mww,,32,0.051,0.88,us,us20007guy,2020-07-10T16:35:37.648Z,\"8km NNW of Norcia, Italy\",earthquake,4.4,1.7,,,reviewed,us,us\n",
      "2016-10-26T05:19:49.930Z,-15.4371,-174.8622,10,6.1,mww,,43,3.349,1.47,us,us20007gsh,2017-01-20T00:31:07.040Z,\"132km WNW of Hihifo, Tonga\",earthquake,7.6,1.7,,,reviewed,us,us\n",
      "2016-10-25T16:10:01.710Z,-15.3889,-174.8281,10,5.8,mww,,65,3.298,1.07,us,us20007gmi,2017-01-20T00:31:06.040Z,\"131km WNW of Hihifo, Tonga\",earthquake,9.3,1.8,,,reviewed,us,us\n",
      "2016-10-23T22:59:29.740Z,18.9017,-104.5714,12,5.6,mww,,105,0.617,0.96,us,us20007ga1,2020-07-10T16:35:25.774Z,\"31km WSW of Manzanillo, Mexico\",earthquake,5.5,1.8,,,reviewed,us,us\n",
      "2016-10-23T20:25:26.670Z,44.0505,148.1035,29,5.9,mww,,34,3.971,0.88,us,us20007g96,2017-01-20T00:31:03.040Z,\"114km ENE of Shikotan, Russia\",earthquake,8,1.8,,,reviewed,us,us\n",
      "2016-10-21T05:07:22.990Z,35.3743,133.8092,5.63,6.2,mww,,23,0.68,0.75,us,us20007fta,2020-07-10T16:35:06.562Z,\"6km S of Kurayoshi, Japan\",earthquake,4.3,3.3,,,reviewed,us,us\n",
      "2016-10-19T00:26:01.090Z,-4.8626,108.1627,614,6.6,mww,,16,2.022,1.21,us,us20007f7j,2017-01-15T01:13:54.040Z,\"161km NNE of Pamanukan, Indonesia\",earthquake,6.6,1.9,,,reviewed,us,us\n",
      "2016-10-18T16:36:41.760Z,-23.3265,-179.843,540,5.9,mww,,16,5.892,0.79,us,us20007f3s,2017-01-15T01:13:59.040Z,\"South of the Fiji Islands\",earthquake,9.3,1.9,,,reviewed,us,us\n",
      "2016-10-17T07:14:50.870Z,32.8959,94.8768,35,5.9,mww,,11,4.519,0.82,us,us20007eqh,2020-07-10T16:34:25.674Z,\"134km NE of Dartang, China\",earthquake,4.6,1.7,,,reviewed,us,us\n",
      "2016-10-17T06:14:58.270Z,-6.0033,148.8871,42,6.8,mww,,11,3.727,1.13,us,us20007ept,2020-07-10T16:34:10.527Z,\"77km WNW of Kandrian, Papua New Guinea\",earthquake,1.8,1.8,,,reviewed,us,us\n",
      "2016-10-15T20:14:49.730Z,39.8063,20.6463,22,5.5,mww,,26,0.661,0.85,us,us20007eec,2020-07-10T16:33:57.974Z,\"12km NNW of Rodotopion, Greece\",earthquake,4.6,1.8,,,reviewed,us,us\n",
      "2016-10-15T08:03:38.150Z,-4.2735,150.3606,442,6.3,mww,,18,1.661,0.98,us,us20007ebu,2017-01-15T01:13:56.040Z,\"143km N of Kimbe, Papua New Guinea\",earthquake,9.2,1.9,,,reviewed,us,us\n",
      "2016-10-09T14:46:26.690Z,1.7703,127.449,128,5.8,mww,,30,0.995,0.81,us,us20007cya,2020-07-10T16:33:46.727Z,\"62km W of Tobelo, Indonesia\",earthquake,5.8,1.8,,,reviewed,us,us\n",
      "2016-10-08T22:43:49.150Z,34.0075,-117.2521667,14.11,3.74,mw,164,14,0.02354,0.22,ci,ci37713424,2018-02-20T14:31:23.806Z,\"5km S of Loma Linda, CA\",earthquake,0.12,0.26,,6,reviewed,ci,ci\n",
      "2016-10-08T19:41:21.340Z,-37.1241,178.64,35,5.8,mww,,27,0.511,0.76,us,us20007cu1,2017-01-07T00:20:46.040Z,\"160km NE of Opotiki, New Zealand\",earthquake,7.6,1.8,,,reviewed,us,us\n",
      "2016-10-06T20:54:49.520Z,33.761,-118.1243333,14.5,2.88,ml,96,122,0.04753,0.24,ci,ci37711808,2016-10-09T20:15:22.198Z,\"3km NW of Seal Beach, CA\",earthquake,0.25,0.36,0.176,202,reviewed,ci,ci\n",
      "2016-10-06T15:51:59.200Z,22.6258,121.436,14,5.8,mww,,18,0.38,1.09,us,us20007ccf,2020-07-10T16:33:34.821Z,\"33km ESE of Taitung City, Taiwan\",earthquake,4.2,1.6,,,reviewed,us,us\n",
      "2016-10-04T14:00:47.100Z,27.8519,141.9442,35,5.7,mww,,16,0.783,0.85,us,usd0007jx3,2017-01-03T21:10:44.040Z,\"89km NNW of Chichi-shima, Japan\",earthquake,6.4,1.9,,35,reviewed,us,us\n",
      "2016-09-26T05:19:58.220Z,27.4646,128.578,38,5.7,mww,,28,0.682,0.93,us,us10006sp7,2016-12-14T03:17:50.040Z,\"114km NNE of Nago, Japan\",earthquake,2.4,1.8,,,reviewed,us,us\n",
      "2016-09-24T21:28:41.700Z,-19.7819,-178.2443,596.4,6.9,mww,,9,4.051,0.82,us,us10006scr,2016-12-14T03:17:47.040Z,\"107km NNE of Ndoi Island, Fiji\",earthquake,9.2,3.5,,,reviewed,us,us\n",
      "2016-09-24T21:07:15.790Z,-18.1706,-174.984,202,6.4,mww,,17,4.879,0.87,us,us10006scl,2016-12-14T03:17:47.040Z,\"118km WNW of Neiafu, Tonga\",earthquake,8.2,1.8,,,reviewed,us,us\n",
      "2016-09-24T11:09:43.850Z,-1.8499,140.5604,13.76,5.7,mwc,,25,6.804,0.87,us,us10006sb0,2016-12-14T03:17:46.040Z,\"77km NNW of Jayapura, Indonesia\",earthquake,7.7,3.1,,,reviewed,us,gcmt\n",
      "2016-09-24T11:04:29.550Z,-1.9534,140.5974,8,5.9,mww,,20,6.765,1.04,us,us10006say,2016-12-14T03:17:46.040Z,\"65km N of Jayapura, Indonesia\",earthquake,7.9,1.7,,,reviewed,us,us\n",
      "2016-09-23T23:11:20.810Z,45.7275,26.6097,92,5.6,mww,,10,0.307,0.96,us,us10006s5c,2020-07-10T15:10:34.685Z,\"8km W of Nereju, Romania\",earthquake,4,1.8,,,reviewed,us,us\n",
      "2016-09-23T22:53:10.400Z,6.5717,126.4918,65,6.3,mww,,13,1.032,0.93,us,us10006s4v,2020-07-10T15:10:13.436Z,\"36km SE of Tamisan, Philippines\",earthquake,2.3,1.8,,,reviewed,us,us\n",
      "2016-09-23T00:14:34.700Z,34.4619,141.6368,10,6.2,mww,,17,1.376,0.83,us,us10006rte,2016-12-28T13:07:31.388Z,\"143km ESE of Katsuura, Japan\",earthquake,6,1.7,,,reviewed,us,us\n",
      "2016-09-20T16:21:16.550Z,30.5017,142.0478,9,6.1,mww,,19,3.225,0.49,us,us10006r42,2016-12-12T23:01:33.040Z,\"Izu Islands, Japan region\",earthquake,4.2,1.6,,,reviewed,us,us\n",
      "2016-09-18T07:17:36.740Z,-2.0354,140.4805,10,5.8,mww,,18,6.881,0.72,us,us10006qm4,2016-12-12T23:01:29.040Z,\"60km NNW of Jayapura, Indonesia\",earthquake,7.6,1.7,,,reviewed,us,us\n",
      "2016-09-17T02:31:58.780Z,-16.0566,167.4862,31,5.8,mww,,18,4.701,1.12,us,us10006qbn,2020-07-10T15:09:42.087Z,\"9km NE of Lakatoro, Vanuatu\",earthquake,7.8,1.8,,,reviewed,us,us\n",
      "2016-09-17T01:20:17.940Z,-2.0829,140.5718,9,6,mww,,12,6.79,0.94,us,us10006qas,2016-12-12T23:01:26.040Z,\"51km NNW of Jayapura, Indonesia\",earthquake,7.3,1.7,,,reviewed,us,us\n",
      "2016-09-15T05:57:24.330Z,12.44,-86.6423,10,5.7,mww,,43,0.081,0.63,us,us10006ppy,2020-07-10T15:09:20.336Z,\"11km NNE of La Paz Centro, Nicaragua\",earthquake,5,1.8,,,reviewed,us,us\n",
      "2016-09-14T07:25:00.070Z,-9.329,159.1673,14,6,mww,,15,0.777,1.24,us,us10006pfn,2020-07-10T15:09:09.810Z,\"86km W of Honiara, Solomon Islands\",earthquake,6.5,1.7,,,reviewed,us,us\n",
      "2016-09-14T01:58:31.570Z,7.3736,-76.1686,18,6,mww,,32,3.112,1.18,us,us10006pdp,2020-07-10T15:08:55.120Z,\"32km ENE of Mutata, Colombia\",earthquake,6.6,1.8,,,reviewed,us,us\n",
      "2016-09-13T07:50:22.080Z,37.8046667,-122.1975,4.02,3.54,mw,236,12,0.00991,0.14,nc,nc72694726,2018-07-25T19:50:21.724Z,\"3km SE of Piedmont, California\",earthquake,0.08,0.13,,5,reviewed,nc,nc\n",
      "2016-09-12T11:32:55.770Z,35.7808,129.2162,13,5.4,mww,,29,0.537,0.85,us,us10006p1f,2021-01-20T10:06:13.845Z,\"6km S of Gyeongju, South Korea\",earthquake,5,1.7,,,reviewed,us,us\n",
      "2016-09-12T10:44:33.130Z,35.7428,129.1062,10,4.9,mb,,49,0.493,0.8,us,us10006p12,2021-01-20T10:19:12.397Z,\"14km SW of Gyeongju, South Korea\",earthquake,4.3,1.8,0.051,118,reviewed,us,us\n",
      "2016-09-12T06:51:53.440Z,-28.7552,-112.3053,10,5.8,mww,,52,2.995,0.73,us,us10006nyk,2016-12-07T02:56:12.040Z,\"Easter Island region\",earthquake,10.2,1.7,,,reviewed,us,us\n",
      "2016-09-11T13:10:08.070Z,42.0081,21.4876,13.2,5.1,mww,,17,1.384,0.57,us,us10006nuj,2020-11-11T04:42:52.609Z,\"4km ENE of Skopje, Macedonia\",earthquake,4.6,3.4,,,reviewed,us,us\n",
      "2016-09-10T12:27:33.410Z,-1.0355,31.6181,40,5.9,mww,,21,5.634,0.88,us,us10006nkx,2020-07-10T15:08:13.915Z,\"27km ENE of Nsunga, Tanzania\",earthquake,8.9,1.9,,,reviewed,us,us\n",
      "2016-09-10T10:08:20.020Z,-5.573,-76.9536,121,6.1,mww,,35,2.111,0.85,us,us10006nkg,2020-07-10T15:08:02.845Z,\"52km N of Moyobamba, Peru\",earthquake,5.8,1.8,,,reviewed,us,us\n",
      "2016-09-09T02:06:29.100Z,35.5166,-97.3974,7.481,3.5,mwr,,54,,0.53,us,us10006n8p,2020-03-20T01:24:35.398Z,\"1km WSW of Spencer, Oklahoma\",earthquake,4.3,5,0.065,23,reviewed,tul,us\n",
      "2016-09-09T00:30:01.440Z,41.2869,129.0783,0,5.3,mb,,,,0.68,us,us10006n8a,2016-12-07T02:56:06.040Z,\"23km ENE of Sungjibaegam, North Korea\",nuclear explosion,5.2,1.7,0.023,608,reviewed,spec,us\n",
      "2016-09-08T21:46:20.100Z,-54.6136,158.7126,10,6.1,mww,,45,0.182,0.81,us,us10006n6r,2016-12-03T02:54:49.040Z,\"21km SW of Macquarie Island, Australia\",earthquake,7.3,1.6,,,reviewed,us,us\n",
      "2016-09-05T22:54:03.930Z,54.4153,168.5415,8,6.1,mww,,33,3.718,0.94,us,us10006kpq,2016-12-03T02:54:44.040Z,\"185km ESE of Nikol'skoye, Russia\",earthquake,6.5,1.8,,,reviewed,us,us\n",
      "2016-09-05T15:19:03.640Z,-37.127,178.6986,27,5.9,mww,,62,0.535,1.06,us,us10006klg,2016-12-03T02:54:44.040Z,\"163km NE of Opotiki, New Zealand\",earthquake,8.8,1.8,,,reviewed,us,us\n",
      "2016-09-04T02:38:12.430Z,8.3989,125.8874,16,5.8,mww,,14,1.355,0.94,us,us10006k8f,2020-07-10T15:07:50.585Z,\"7km SE of Causwagan, Philippines\",earthquake,6.9,1.6,,,reviewed,us,us\n",
      "2016-09-03T12:02:44.400Z,36.4251,-96.9291,5.557,5.8,mww,,69,,0.7,us,us10006jxs,2020-12-09T00:31:49.628Z,\"14km NW of Pawnee, Oklahoma\",earthquake,1.2,6.1,,,reviewed,tul,us\n",
      "2016-09-03T03:27:57.250Z,40.3208333,-125.6876667,28.57,5.64,mw,21,313,1.041,0.28,nc,nc72689331,2017-03-18T00:02:38.459Z,\"100km W of Ferndale, California\",earthquake,3.32,31.61,,6,reviewed,nc,nc\n",
      "2016-09-01T17:14:06.060Z,-37.0522,178.9291,13.73,6.1,mww,,56,0.711,0.86,us,us10006jd4,2016-11-29T01:28:50.040Z,\"185km NE of Opotiki, New Zealand\",earthquake,7.6,3.2,,,reviewed,us,us\n",
      "2016-09-01T17:01:07.930Z,-37.0174,178.8907,10,5.7,mb,,37,0.716,0.97,us,us10006jc0,2016-11-29T01:28:50.040Z,\"184km NE of Opotiki, New Zealand\",earthquake,8.8,1.7,0.062,93,reviewed,us,us\n",
      "2016-09-01T16:37:57.300Z,-37.3586,179.1461,19,7,mww,,21,0.698,0.88,us,us10006jbi,2018-10-17T21:50:25.788Z,\"175km NE of Gisborne, New Zealand\",earthquake,6.8,1.7,,,reviewed,us,us\n",
      "2016-08-31T22:04:35.180Z,-37.132,178.9278,15.41,5.8,mww,,27,0.655,0.92,us,us10006j5q,2016-11-29T01:28:48.040Z,\"179km NE of Opotiki, New Zealand\",earthquake,7.8,3.2,,,reviewed,us,us\n",
      "2016-08-31T03:11:34.420Z,-3.6849,152.7915,476,6.8,mww,,12,0.803,0.63,us,us10006iy0,2020-07-10T15:07:06.515Z,\"39km E of Namatanai, Papua New Guinea\",earthquake,8.1,1.9,,,reviewed,us,us\n",
      "2016-08-29T04:29:57.860Z,-0.0456,-17.8255,10,7.1,mww,,24,8.561,0.87,us,us20006uy6,2018-10-17T21:50:17.343Z,\"North of Ascension Island\",earthquake,8.4,1.7,,,reviewed,us,us\n",
      "2016-08-27T20:47:47.240Z,43.2226,-110.3593,12.3,4.8,mwr,,7,0.373,1.14,us,us20006umx,2018-03-24T01:11:22.062Z,\"35km E of Hoback, Wyoming\",earthquake,4.1,3.7,0.035,78,reviewed,us,us\n",
      "2016-08-25T17:04:43.270Z,30.6141,137.8537,456,5.9,mww,,47,2.988,0.73,us,us20006ty8,2016-11-19T04:58:39.040Z,\"Izu Islands, Japan region\",earthquake,4.3,1.9,,,reviewed,us,us\n",
      "2016-08-24T10:34:54.580Z,20.9228,94.569,82,6.8,mww,,17,1.802,1.05,us,us10006gbf,2020-07-10T15:06:32.385Z,\"26km W of Chauk, Burma\",earthquake,5.9,1.9,,,reviewed,us,us\n",
      "2016-08-24T02:33:29.450Z,42.8413,13.1533,3.25,5.6,mww,,23,0.521,0.84,us,us10006g7w,2020-07-10T15:06:18.259Z,\"7km NE of Norcia, Italy\",earthquake,3.9,2.1,,,reviewed,us,us\n",
      "2016-08-24T01:36:32.870Z,42.723,13.1877,4.44,6.2,mww,,25,0.123,0.68,us,us10006g7d,2021-01-07T12:54:03.512Z,\"10km SE of Norcia, Italy\",earthquake,4.4,2.8,,,reviewed,us,us\n",
      "2016-08-23T19:40:46.660Z,-7.2131,122.5391,520.29,5.8,mb,,13,6.134,0.88,us,us10006gj0,2016-11-19T04:58:36.040Z,\"139km N of Nebe, Indonesia\",earthquake,8.7,5.1,0.058,109,reviewed,us,us\n",
      "2016-08-23T19:39:44.580Z,-7.2872,122.4345,533,6,mww,,10,1.353,1.17,us,us10006g2n,2016-11-19T04:58:36.040Z,\"132km N of Nebe, Indonesia\",earthquake,5.5,3.4,,,reviewed,us,us\n",
      "2016-08-21T03:45:23.780Z,-55.3133,-31.7508,12,6.1,mww,,17,2.929,0.78,us,us10006fik,2016-11-19T04:58:33.040Z,\"South Georgia Island region\",earthquake,8.3,1.7,,,reviewed,us,us\n",
      "2016-08-20T15:58:04.590Z,40.3135,143.7281,11,5.8,mww,,106,1.753,0.89,us,us10006ffg,2016-11-19T04:58:32.040Z,\"169km ENE of Miyako, Japan\",earthquake,5.2,1.8,,,reviewed,us,us\n",
      "2016-08-20T09:01:26.210Z,40.3942,143.6796,10,6,mww,,36,1.666,0.59,us,us10006fdp,2016-11-19T04:58:32.040Z,\"169km ENE of Miyako, Japan\",earthquake,6.9,1.8,,,reviewed,us,us\n",
      "2016-08-19T17:33:40.300Z,-55.215,-32.0659,3.35,5.8,mww,,24,2.727,0.72,us,us10006f6x,2016-11-19T04:58:31.040Z,\"South Georgia Island region\",earthquake,8.7,3.2,,,reviewed,us,us\n",
      "2016-08-19T07:36:01.650Z,-55.335,-30.7714,10,5.7,mb,,112,3.471,1.03,us,us10006gi2,2016-11-19T04:58:29.040Z,\"269km WNW of Visokoi Island, South Georgia and the South Sandwich Islands\",earthquake,8.3,1.8,0.13,21,reviewed,us,us\n",
      "2016-08-19T07:32:22.710Z,-55.2852,-31.8766,10,7.4,mww,,18,2.852,0.79,us,us10006exl,2018-10-17T21:50:08.416Z,\"South Georgia Island region\",earthquake,8.4,1.7,,,reviewed,us,us\n",
      "2016-08-18T18:09:43.940Z,-55.9035,-123.2414,10,6,mww,,50,27.905,0.95,us,us10006esj,2016-11-15T02:21:53.040Z,\"Southern East Pacific Rise\",earthquake,7.7,1.7,,,reviewed,us,us\n",
      "2016-08-18T04:30:08.800Z,-19.8352,148.7233,10,5.7,mww,,30,2.335,0.82,us,us10006em9,2017-10-31T12:42:21.340Z,\"55km ENE of Bowen, Australia\",earthquake,7.1,1.8,,,reviewed,us,us\n",
      "2016-08-15T07:04:41.020Z,37.4115,141.7203,33,5.6,mww,,13,0.868,0.97,us,us10006dvd,2016-11-15T02:21:49.040Z,\"64km E of Namie, Japan\",earthquake,6,1.7,,,reviewed,us,us\n",
      "2016-08-14T11:15:14.970Z,50.4696,142.2749,11,5.7,mww,,46,3.528,0.83,us,us10006dr1,2020-07-10T15:05:37.235Z,\"48km S of Aleksandrovsk-Sakhalinskiy, Russia\",earthquake,7.2,1.7,,,reviewed,us,us\n",
      "2016-08-12T03:29:32.710Z,-25.1758,-177.3433,112.85,6.1,mww,,20,4.086,0.86,us,us10006d6d,2016-11-15T02:21:45.040Z,\"South of the Fiji Islands\",earthquake,9.3,4.1,,,reviewed,us,us\n",
      "2016-08-12T01:26:36.280Z,-22.4765,173.1167,16.37,7.2,mww,,14,4.823,0.9,us,us10006d5h,2018-10-17T21:50:00.178Z,\"110km E of Ile Hunter, New Caledonia\",earthquake,6.7,2.6,,,reviewed,us,us\n",
      "2016-08-10T02:57:17.510Z,39.3293333,-122.8018333,14.45,5.09,mw,120,32,0.155,0.15,nc,nc72672610,2020-10-20T02:39:54.728Z,\"20km NNE of Upper Lake, California\",earthquake,0.12,0.21,,6,reviewed,nc,nc\n",
      "2016-08-04T16:24:33.530Z,24.9447,142.0141,510,6.3,mww,,13,2.147,0.77,us,us10006a2k,2016-11-10T22:17:49.745Z,\"71km ENE of Iwo Jima, Japan\",earthquake,8,1.9,,,reviewed,us,us\n",
      "2016-08-04T14:15:12.930Z,-22.3343,-66.0078,270,6.2,mww,,20,2.097,1.03,us,us10006a1d,2016-11-10T22:17:48.645Z,\"49km WSW of La Quiaca, Argentina\",earthquake,7.5,1.9,,,reviewed,us,us\n",
      "2016-08-04T04:55:35.040Z,40.1538333,-120.2131667,6.87,4.48,mw,31,174,0.07477,0.06,nc,nc72670060,2018-07-02T18:00:08.546Z,\"30km ESE of Janesville, California\",earthquake,0.38,0.73,,6,reviewed,nc,nc\n",
      "2016-07-31T11:33:20.650Z,-56.2564,-27.5372,99,5.9,mww,,21,5.485,0.79,us,us100068yv,2016-11-10T22:17:44.178Z,\"53km NNW of Visokoi Island, South Georgia and the South Sandwich Islands\",earthquake,8.7,1.8,,,reviewed,us,us\n",
      "2016-07-29T21:18:24.740Z,18.5429,145.5073,196,7.7,mww,,14,3.294,1.38,us,us100068jg,2018-10-17T21:49:51.838Z,\"29km SW of Agrihan, Northern Mariana Islands\",earthquake,7.5,1.8,,,reviewed,us,us\n",
      "2016-07-27T14:47:17.010Z,36.492,140.7576,46,5.3,mww,,88,0.526,1.32,us,us20006i35,2016-09-24T22:47:21.040Z,\"15km SE of Hitachi, Japan\",earthquake,4.8,1.9,,,reviewed,us,us\n",
      "2016-07-27T01:25:12.940Z,-44.4113,-79.0594,10,5.9,mww,,53,4.117,1.32,us,us20006hzu,2016-11-10T22:17:39.574Z,\"Off the coast of Aisen, Chile\",earthquake,8.6,1.8,,,reviewed,us,us\n",
      "2016-07-26T08:04:20.310Z,-16.036,167.45,31,5.8,mww,,21,5.403,1.46,us,us20006hpx,2020-07-10T16:32:52.152Z,\"7km ENE of Norsup, Vanuatu\",earthquake,7.3,1.8,,,reviewed,us,us\n",
      "2016-07-26T05:49:19.100Z,-0.2711,-18.6431,10,5.9,mwb,,38,8.573,1.18,us,us20006hnx,2016-11-10T22:17:36.097Z,\"Central Mid-Atlantic Ridge\",earthquake,8.1,1.7,0.032,94,reviewed,us,us\n",
      "2016-07-25T19:38:45.560Z,-2.969,148.0345,14,6.4,mww,,12,1.136,0.73,us,us20006hkb,2016-11-10T22:17:34.896Z,\"134km SE of Lorengau, Papua New Guinea\",earthquake,6.8,1.7,,,reviewed,us,us\n",
      "2016-07-25T17:26:50.210Z,-26.1067,-70.5111,72,6.1,mww,,25,0.088,0.68,us,us20006hi2,2020-07-10T16:32:41.314Z,\"54km WNW of Diego de Almagro, Chile\",earthquake,4.9,1.7,,,reviewed,us,us\n",
      "2016-07-25T08:58:30.790Z,-49.4848,126.2657,10,5.8,mww,,22,15.965,0.99,us,us20006hdi,2016-11-10T22:17:32.567Z,\"Western Indian-Antarctic Ridge\",earthquake,3.9,1.6,,,reviewed,us,us\n",
      "2016-07-24T14:10:51.040Z,0.915,-28.9702,10,5.7,mwb,,27,9.631,0.62,us,us20006h9g,2016-11-10T22:17:31.389Z,\"Central Mid-Atlantic Ridge\",earthquake,8.8,1.8,0.033,89,reviewed,us,us\n",
      "2016-07-23T20:09:23.500Z,-15.1308,-173.6725,37,5.9,mww,,20,2.2,0.69,us,us20006h4k,2016-11-10T22:17:30.259Z,\"91km N of Hihifo, Tonga\",earthquake,7.7,1.9,,,reviewed,us,us\n",
      "2016-07-23T07:16:05.250Z,19.5295,-155.96,10.17,4.32,ml,22,235,,0.24,hv,hv61350131,2020-07-06T20:59:18.090Z,\"3 km WSW of Honalo, Hawaii\",earthquake,0.98,0.49,0.106,10,reviewed,hv,hv\n",
      "2016-07-23T01:00:20.940Z,47.6981,146.9212,408,5.8,mww,,31,2.925,0.81,us,us20006h0d,2016-11-10T22:17:26.823Z,\"199km SW of Vostok, Russia\",earthquake,8.5,1.8,,,reviewed,us,us\n",
      "2016-07-21T23:09:05.780Z,40.7243333,-123.8918333,26.24,4.81,mw,49,39,0.14,0.17,nc,nc72664436,2019-02-21T21:54:18.846Z,\"19km SSE of Blue Lake, CA\",earthquake,0.26,0.81,,6,reviewed,nc,nc\n",
      "2016-07-20T15:13:16.520Z,-18.9285,169.0547,167,6.1,mww,,18,2.509,0.98,us,us20006g6l,2016-11-10T22:17:24.543Z,\"72km NNW of Isangel, Vanuatu\",earthquake,7.2,1.8,,,reviewed,us,us\n",
      "2016-07-19T21:38:38.910Z,36.6925,-121.3296667,5.87,4.22,mw,77,29,0.05225,0.1,nc,nc72663506,2020-02-13T04:10:24.696Z,\"13km SSE of Ridgemark, California\",earthquake,0.12,0.54,,8,reviewed,nc,nc\n",
      "2016-07-19T05:18:40.260Z,-30.2523,-71.9722,8.01,5.8,mww,,82,0.511,1.44,us,us20006fpn,2020-07-10T16:32:30.227Z,\"69km WSW of Coquimbo, Chile\",earthquake,5.1,2.6,,,reviewed,us,us\n",
      "2016-07-17T04:17:58.900Z,36.2841,-97.5138,4.787,4.2,mwr,,73,,0.39,us,us20006fas,2020-03-20T01:16:01.244Z,\"20km W of Perry, Oklahoma\",earthquake,1.2,7.3,0.043,52,reviewed,tul,us\n",
      "2016-07-13T13:04:25.480Z,-27.9244,-176.5252,10,5.8,mww,,51,1.804,0.71,us,us10006391,2016-11-10T22:17:17.595Z,\"200km NE of Raoul Island, New Zealand\",earthquake,8.2,1.8,,,reviewed,us,us\n",
      "2016-07-13T12:18:33.390Z,-28.109,-176.5308,10,5.9,mwc,,50,1.67,0.79,us,us1000638n,2016-11-10T22:17:16.432Z,\"185km NE of Raoul Island, New Zealand\",earthquake,8.4,1.7,,,reviewed,us,gcmt\n",
      "2016-07-13T12:11:12.830Z,-28.0052,-176.443,12,6.3,mww,,40,1.797,1.01,us,us1000638m,2016-11-10T22:17:15.265Z,\"199km NE of Raoul Island, New Zealand\",earthquake,7.9,1.7,,,reviewed,us,us\n",
      "2016-07-13T11:56:58.280Z,-28.0101,-176.4143,10,5.9,mww,,74,1.813,1.13,us,us1000638j,2016-11-10T22:17:14.138Z,\"201km NE of Raoul Island, New Zealand\",earthquake,4.6,1.7,,,reviewed,us,us\n",
      "2016-07-11T02:11:04.800Z,0.5812,-79.638,21,6.3,mww,,37,1.235,1.01,us,us100062hg,2020-07-10T15:04:07.489Z,\"33km NW of Rosa Zarate, Ecuador\",earthquake,4.4,1.5,,,reviewed,us,us\n",
      "2016-07-11T02:01:09.950Z,0.5874,-79.6358,17,5.9,mww,,47,1.234,1.1,us,us100062hd,2020-07-10T15:03:56.738Z,\"33km NNW of Rosa Zarate, Ecuador\",earthquake,6.1,1.6,,,reviewed,us,us\n",
      "2016-07-10T13:44:40.680Z,-15.083,-173.2011,8,6,mww,,35,1.806,0.74,us,us100062ea,2016-11-10T22:17:06.314Z,\"112km NNE of Hihifo, Tonga\",earthquake,9.1,1.8,,,reviewed,us,us\n",
      "2016-07-10T13:41:53.330Z,-15.0284,-172.8764,8,5.8,mww,,70,1.539,0.8,us,us100062dw,2016-11-10T22:17:05.117Z,\"138km NE of Hihifo, Tonga\",earthquake,7.5,1.7,,,reviewed,us,us\n",
      "2016-07-09T02:04:27.400Z,36.4638,-98.7584,7.242,4.4,mwr,,53,,0.47,us,us10006249,2020-03-20T01:14:56.696Z,\"33km NW of Fairview, Oklahoma\",earthquake,3.3,5.7,0.033,88,reviewed,tul,us\n",
      "2016-07-06T01:01:57.690Z,-56.7696,-142.0798,10,5.8,mww,,70,27.255,1.36,us,us10006153,2016-11-10T22:17:00.461Z,\"Pacific-Antarctic Ridge\",earthquake,13.2,1.8,,,reviewed,us,us\n",
      "2016-07-04T09:25:39.460Z,-10.6273,164.9682,44,5.9,mww,,28,5.083,0.97,us,us10005zsp,2016-11-10T22:16:59.293Z,\"95km W of Lata, Solomon Islands\",earthquake,8.1,1.9,,,reviewed,us,us\n",
      "2016-06-30T11:30:33.050Z,-16.0558,167.4701,27,6,mww,,22,4.701,1.37,us,us10005yp3,2017-10-11T21:30:31.769Z,\"8km NE of Lakatoro, Vanuatu\",earthquake,7.3,1.8,,,reviewed,us,us\n",
      "2016-06-28T22:46:46.600Z,-14.6436,166.4585,9,5.8,mww,,24,6.145,0.9,us,us200067r2,2020-07-10T16:32:09.893Z,\"77km NW of Port-Olry, Vanuatu\",earthquake,7.8,1.7,,,reviewed,us,us\n",
      "2016-06-27T20:50:34.740Z,16.5502,-97.8332,19,5.7,mww,,72,1.227,0.8,us,us200067az,2020-07-10T16:31:46.540Z,\"17km NNE of Pinotepa de Don Luis, Mexico\",earthquake,7.5,1.7,,,reviewed,us,us\n",
      "2016-06-26T22:57:06.150Z,36.9968,142.2226,12.82,5.7,mww,,52,1.434,0.86,us,us2000671z,2016-11-10T22:16:53.573Z,\"119km E of Iwaki, Japan\",earthquake,5.9,2.8,,,reviewed,us,us\n",
      "2016-06-26T11:17:11.280Z,39.4793,73.3388,13,6.4,mww,,36,1.187,1.13,us,us200066x9,2020-07-10T16:31:21.069Z,\"28km SSE of Sary-Tash, Kyrgyzstan\",earthquake,4.7,1.7,,,reviewed,us,us\n",
      "2016-06-23T21:05:30.640Z,23.694,123.3704,10,5.8,mww,,18,0.836,1,us,us200066bv,2016-11-10T22:16:47.868Z,\"93km SSE of Yonakuni, Japan\",earthquake,5.7,1.7,,,reviewed,us,us\n",
      "2016-06-21T17:12:07.370Z,-3.4199,151.8796,354,6.3,mww,,12,0.816,1.08,us,us200065sc,2020-07-10T16:30:49.488Z,\"67km WNW of Namatanai, Papua New Guinea\",earthquake,7.6,1.7,,,reviewed,us,us\n",
      "2016-06-21T16:26:34.420Z,22.6582,-45.1402,10,6.1,mww,,22,16.283,0.63,us,us200065s1,2016-11-10T22:16:44.503Z,\"Northern Mid-Atlantic Ridge\",earthquake,9.4,1.7,,,reviewed,us,us\n",
      "2016-06-20T03:50:55.240Z,-20.2072,168.7595,15,6,mww,,20,1.439,1.24,us,us200065g0,2016-11-10T22:16:43.414Z,\"90km SW of Isangel, Vanuatu\",earthquake,7.8,1.7,,,reviewed,us,us\n",
      "2016-06-19T09:47:23.600Z,-20.2793,169.0737,13,6.3,mww,,64,13.92,1.05,us,us200065d1,2016-11-10T22:16:40.064Z,\"83km SSW of Isangel, Vanuatu\",earthquake,10.4,1.8,,,reviewed,us,us\n",
      "2016-06-18T17:29:46.460Z,-24.1467,-67.1526,186,5.7,mww,,31,1.516,1.32,us,us2000659j,2016-11-10T22:16:37.772Z,\"85km W of San Antonio de los Cobres, Argentina\",earthquake,6.7,1.6,,,reviewed,us,us\n",
      "2016-06-17T21:26:17.660Z,-11.6148,166.37,45.64,5.7,mwb,,42,6.675,0.74,us,us20006567,2016-11-10T22:16:36.663Z,\"115km SSE of Lata, Solomon Islands\",earthquake,7.9,4.3,0.041,58,reviewed,us,us\n",
      "2016-06-16T13:46:24.270Z,-20.5822,168.9219,10,5.7,mww,,114,1.221,1.43,us,us200064rn,2016-11-10T22:16:35.536Z,\"119km SSW of Isangel, Vanuatu\",earthquake,6.8,1.9,,,reviewed,us,us\n",
      "2016-06-15T06:58:27.280Z,-62.3661,166.5804,10,5.7,mww,,108,8.838,1.28,us,us200064hq,2016-11-10T22:16:33.215Z,\"Balleny Islands region\",earthquake,4.1,1.9,,,reviewed,us,us\n",
      "2016-06-14T13:49:22.630Z,-18.7609,168.8279,111,6.2,mww,,17,2.807,0.72,us,us200064bb,2016-11-10T22:16:29.670Z,\"98km NNW of Isangel, Vanuatu\",earthquake,6.8,1.8,,,reviewed,us,us\n",
      "2016-06-13T00:59:39.890Z,-4.4284,-104.8111,10,5.7,mww,,84,14.98,0.88,us,us2000640t,2016-11-10T22:16:27.026Z,\"Central East Pacific Rise\",earthquake,11.1,1.8,,,reviewed,us,us\n",
      "2016-06-10T18:29:50.780Z,-16.4825,-177.2142,10,5.8,mww,,51,4.696,1.23,us,us200063m8,2016-11-10T22:16:25.913Z,\"262km SSE of Sigave, Wallis and Futuna\",earthquake,6.8,1.7,,,reviewed,us,us\n",
      "2016-06-10T08:04:38.700Z,33.4315,-116.4426667,12.31,5.19,mw,143,18,0.09275,0.23,ci,ci37374687,2020-07-09T21:43:24.762Z,\"20km NNW of Borrego Springs, CA\",earthquake,0.13,0.34,,6,reviewed,ci,ci\n",
      "2016-06-10T04:17:44.840Z,-8.6757,160.559,30.4,6.2,mww,,13,0.969,1.02,us,us200063dk,2020-07-10T16:30:33.253Z,\"18km WNW of Auki, Solomon Islands\",earthquake,6.7,3.4,,,reviewed,us,us\n",
      "2016-06-10T03:25:22.920Z,12.8318,-86.9633,10,6.1,mww,,39,0.159,1.04,us,us200063cy,2020-07-10T16:30:13.154Z,\"22km E of Puerto Morazan, Nicaragua\",earthquake,5.3,1.7,,,reviewed,us,us\n",
      "2016-06-09T04:13:08.130Z,-11.2487,116.2669,19,6.1,mww,,27,3.459,0.76,us,us200062zs,2016-11-10T22:16:21.322Z,\"260km S of Kute, Indonesia\",earthquake,6.6,1.7,,,reviewed,us,us\n",
      "2016-06-08T08:31:39.780Z,-4.061,-104.5531,10,5.9,mww,,111,14.645,0.79,us,us200062qw,2016-11-10T22:16:20.236Z,\"Central East Pacific Rise\",earthquake,12.9,1.9,,,reviewed,us,us\n",
      "2016-06-07T19:15:15.330Z,1.2789,126.3712,31,6.3,mww,,10,1.115,1.1,us,us200062l9,2020-07-10T16:29:50.036Z,\"123km WNW of Kota Ternate, Indonesia\",earthquake,5.3,1.8,,,reviewed,us,us\n",
      "2016-06-07T10:51:37.720Z,18.3637,-105.1731,10,6.3,mww,,56,1.383,1,us,us200062i1,2016-11-10T22:16:16.892Z,\"106km SSW of San Patricio, Mexico\",earthquake,5.5,1.7,,,reviewed,us,us\n",
      "2016-06-06T02:35:32.390Z,-30.0235,-177.8359,43.83,6.1,mww,,33,0.78,1.06,us,us2000629f,2016-11-10T22:16:13.443Z,\"84km S of Raoul Island, New Zealand\",earthquake,7.7,4,,,reviewed,us,us\n",
      "2016-06-05T16:25:33.540Z,-4.587,125.6264,429.62,6.3,mww,,17,5.308,1.13,us,us2000626m,2016-11-10T22:16:11.202Z,\"133km SW of Leksula, Indonesia\",earthquake,8.7,3.7,,,reviewed,us,us\n",
      "2016-06-05T05:51:11.550Z,-29.3424,-71.8594,28,5.8,mww,,72,0.788,1,us,us20006257,2020-07-10T16:29:29.103Z,\"84km NW of Coquimbo, Chile\",earthquake,4.2,1.7,,,reviewed,us,us\n",
      "2016-06-02T02:23:05.910Z,18.0217,-105.8338,10,5.8,mww,,74,2.094,1.07,us,us20005zv0,2016-11-10T22:16:07.856Z,\"178km SW of San Patricio, Mexico\",earthquake,6.7,1.9,,,reviewed,us,us\n",
      "2016-06-01T22:56:00.800Z,-2.0967,100.6654,50,6.6,mww,,16,2.435,0.87,us,us20005zt1,2020-07-10T16:29:15.772Z,\"79km W of Sungaipenuh, Indonesia\",earthquake,3.5,1.8,,,reviewed,us,us\n",
      "2016-05-31T20:51:23.686Z,55.3621,-158.4417,25.8,5.7,mw,,,,0.74,ak,ak0166zpwei8,2019-06-13T23:11:06.364Z,\"95km NE of Chernabura Island, Alaska\",earthquake,,1.1,,,reviewed,ak,ak\n",
      "2016-05-31T10:04:00.530Z,47.5484,154.3641,18.37,5.9,mww,,58,6.129,0.78,us,us20005zc8,2016-11-10T22:16:02.316Z,\"Kuril Islands\",earthquake,7.1,2.5,,,reviewed,us,us\n",
      "2016-05-31T05:23:47.310Z,25.5615,122.5458,246.4,6.4,mww,,16,1.115,0.97,us,us20005zay,2016-11-13T12:55:03.742Z,\"94km ENE of Keelung, Taiwan\",earthquake,7.3,3.6,,,reviewed,us,us\n",
      "2016-05-30T07:14:18.620Z,-30.2689,-177.9791,47,5.7,mww,,26,1.021,0.89,us,us20005z5g,2016-11-10T22:15:59.047Z,\"111km S of Raoul Island, New Zealand\",earthquake,7.4,1.8,,,reviewed,us,us\n",
      "2016-05-28T09:46:59.780Z,-56.2409,-26.9353,78,7.2,mww,,24,5.803,0.89,us,us20005ysu,2018-10-17T21:49:39.934Z,\"53km NNE of Visokoi Island, South Georgia and the South Sandwich Islands\",earthquake,6.3,1.8,,,reviewed,us,us\n",
      "2016-05-28T05:38:50.550Z,-21.9724,-178.2038,405.69,6.9,mww,,19,5.485,0.94,us,us20005yqp,2016-11-10T22:15:56.813Z,\"155km SSE of Ndoi Island, Fiji\",earthquake,8.9,3.4,,,reviewed,us,us\n",
      "2016-05-27T04:08:43.950Z,-20.8101,-178.6481,567.48,6.4,mww,,16,4.359,0.86,us,us20005yd7,2016-11-10T22:15:55.660Z,\"18km SSE of Ndoi Island, Fiji\",earthquake,7.2,3.8,,,reviewed,us,us\n",
      "2016-05-27T03:44:29.470Z,26.9924,130.1374,10,5.9,mww,,22,1.672,0.83,us,us20005yd1,2016-11-10T22:15:54.559Z,\"165km SSE of Naze, Japan\",earthquake,6.4,1.7,,,reviewed,us,us\n",
      "2016-05-20T18:14:04.670Z,-25.5655,129.8841,10,6,mww,,24,1.53,1.33,us,us10005iyk,2018-03-13T01:22:51.756Z,\"Northern Territory, Australia\",earthquake,2.2,1.7,,,reviewed,us,us\n",
      "2016-05-18T16:46:43.860Z,0.4947,-79.616,29.95,6.9,mww,,17,1.192,1.09,us,us10005i9n,2020-07-10T15:03:14.252Z,\"24km NW of Rosa Zarate, Ecuador\",earthquake,6.6,3,,,reviewed,us,us\n",
      "2016-05-18T07:57:02.650Z,0.4261,-79.7899,16,6.7,mww,,21,1.352,1.13,us,us10005i5t,2020-07-10T15:02:56.750Z,\"33km SE of Muisne, Ecuador\",earthquake,6.5,1.7,,,reviewed,us,us\n",
      "2016-05-16T12:23:02.500Z,36.023,139.806,44.51,5.4,mww,,62,0.374,0.77,us,us10005hqy,2017-06-12T00:00:44.413Z,\"6km E of Sugito, Japan\",earthquake,5.4,4.8,,,reviewed,us,us\n",
      "2016-05-16T00:41:53.270Z,-22.517,172.9882,10,5.8,mww,,44,4.714,0.7,us,us10005hmu,2016-11-10T22:15:48.335Z,\"97km E of Ile Hunter, New Caledonia\",earthquake,7.7,1.7,,,reviewed,us,us\n",
      "2016-05-15T05:51:00.219Z,63.0765,-150.9465,131.5,5.3,mw,,,,0.69,ak,ak016690dapx,2019-06-13T23:00:31.197Z,\"94km NNW of Talkeetna, Alaska\",earthquake,,0.3,,,reviewed,ak,ak\n",
      "2016-05-14T18:21:05.860Z,8.5599,-102.7916,10,5.8,mww,,54,9.848,0.85,us,us10005hf5,2016-11-10T22:15:47.190Z,\"Northern East Pacific Rise\",earthquake,9.9,1.8,,,reviewed,us,us\n",
      "2016-05-12T04:29:55.800Z,24.6833,122.0531,9,5.7,mww,,26,0.582,0.91,us,us10005gq4,2020-07-10T15:02:45.422Z,\"22km ENE of Su'ao, Taiwan\",earthquake,5.3,1.2,,,reviewed,us,us\n",
      "2016-05-12T03:17:15.070Z,24.6953,121.9839,8,5.8,mww,,25,0.521,1,us,us10005gpt,2020-07-10T15:02:34.212Z,\"17km NE of Su'ao, Taiwan\",earthquake,4.6,1.7,,,reviewed,us,us\n",
      "2016-05-08T07:34:00.700Z,16.4107,-97.8416,22,5.8,mww,,71,0.274,1.23,us,us10005ftw,2020-07-10T15:01:51.611Z,\"8km E of Pinotepa de Don Luis, Mexico\",earthquake,1.6,1.8,,,reviewed,us,us\n",
      "2016-05-04T14:36:23.760Z,-14.855,166.9341,26,5.7,mww,,43,0.643,0.83,us,us10005dme,2020-07-10T15:01:40.997Z,\"24km NNW of Port-Olry, Vanuatu\",earthquake,8.2,1.8,,,reviewed,us,us\n",
      "2016-05-03T00:00:51.680Z,43.6954,147.5063,61,5.7,mww,,20,3.575,0.71,us,us10005d6s,2016-11-10T22:15:39.861Z,\"64km E of Shikotan, Russia\",earthquake,6.8,1.8,,,reviewed,us,us\n",
      "2016-05-02T04:21:24.710Z,-5.0262,104.6271,117,5.7,mww,,25,1.792,1.33,us,us10005cxc,2020-07-10T15:01:30.610Z,\"34km NNW of Pulaupanggung, Indonesia\",earthquake,7.2,1.8,,,reviewed,us,us\n",
      "2016-04-30T08:35:42.140Z,-16.3487,167.2001,2.99,5.8,mww,,37,0.896,1.38,us,us10005cpd,2020-07-10T15:01:20.464Z,\"34km SW of Lakatoro, Vanuatu\",earthquake,5.4,2.4,,,reviewed,us,us\n",
      "2016-04-29T01:33:38.910Z,10.2752,-103.7363,10,6.6,mww,,38,7.528,0.92,us,us10005cc4,2016-11-30T20:56:53.351Z,\"Northern East Pacific Rise\",earthquake,8.5,1.7,,,reviewed,us,us\n",
      "2016-04-28T19:33:24.070Z,-16.0429,167.3786,24,7,mww,,14,0.616,1.33,us,us10005c88,2020-07-07T22:46:19.355Z,\"2km N of Norsup, Vanuatu\",earthquake,2.9,1.7,,,reviewed,us,us\n",
      "2016-04-27T12:51:19.440Z,14.5178,-93.0882,16,6,mww,,40,0.885,1.3,us,us10005bxb,2016-11-10T22:15:34.159Z,\"75km WSW of Puerto Madero, Mexico\",earthquake,4.9,1.7,,,reviewed,us,us\n",
      "2016-04-25T07:07:08.600Z,14.479,-93.1509,16,6,mww,,67,0.957,1.37,us,us20005li9,2016-11-10T22:15:32.487Z,\"83km WSW of Puerto Madero, Mexico\",earthquake,3.5,1.7,,,reviewed,us,us\n",
      "2016-04-24T22:24:36.450Z,-17.6976,-173.2031,27.17,5.7,mww,,28,3.399,0.82,us,us20005lgm,2016-11-10T22:15:31.884Z,\"133km NE of Neiafu, Tonga\",earthquake,8.7,3.4,,,reviewed,us,us\n",
      "2016-04-23T01:24:33.900Z,0.6128,-80.2522,10,5.7,mww,,36,1.839,0.9,us,us20005l3v,2020-07-10T16:28:53.098Z,\"24km W of Muisne, Ecuador\",earthquake,5.6,1.1,,,reviewed,us,us\n",
      "2016-04-22T03:20:13.380Z,-0.2814,-80.5039,10.29,5.9,mww,,44,2.024,0.86,us,us20005kqp,2020-07-10T16:28:42.455Z,\"36km NNW of Bahia de Caraquez, Ecuador\",earthquake,6.1,3,,,reviewed,us,us\n",
      "2016-04-22T03:03:41.720Z,-0.2921,-80.5039,10,6,mww,,44,2.025,0.91,us,us20005kqh,2020-07-10T16:28:31.981Z,\"35km NNW of Bahia de Caraquez, Ecuador\",earthquake,5.8,1.7,,,reviewed,us,us\n",
      "2016-04-20T12:19:43.950Z,37.8013,141.6216,33.11,5.9,mww,,41,0.662,0.8,us,us20005k66,2020-07-10T16:28:09.520Z,\"65km ENE of Namie, Japan\",earthquake,5.3,3.5,,,reviewed,us,us\n",
      "2016-04-20T08:35:10.620Z,0.7079,-80.0352,10,6,mwb,,78,1.651,1.43,us,us20005kb6,2020-07-10T16:28:21.312Z,\"11km N of Muisne, Ecuador\",earthquake,6.9,1.8,0.042,54,reviewed,us,us\n",
      "2016-04-20T08:33:47.330Z,0.639,-80.2104,14,6.2,mww,,48,1.804,0.83,us,us20005k37,2020-07-10T16:27:58.684Z,\"20km WNW of Muisne, Ecuador\",earthquake,5.1,1.3,,,reviewed,us,us\n",
      "2016-04-19T05:25:39.940Z,-55.7283,-27.2307,14,6.2,mww,,32,5.521,0.8,us,us20005jqc,2016-11-10T22:15:26.770Z,\"108km N of Visokoi Island, South Georgia and the South Sandwich Islands\",earthquake,9.3,1.7,,,reviewed,us,us\n",
      "2016-04-18T13:06:10.890Z,-19.492,169.0934,76,5.9,mww,,19,2.16,0.83,us,us20005jhi,2016-11-10T22:15:25.660Z,\"19km WNW of Isangel, Vanuatu\",earthquake,6.5,1.8,,,reviewed,us,us\n",
      "2016-04-17T07:31:00.030Z,-23.4947,-174.2467,10,5.7,mww,,31,5.962,1.17,us,us20005j67,2016-11-10T22:15:23.374Z,\"250km SSE of `Ohonua, Tonga\",earthquake,7.6,1.7,,,reviewed,us,us\n",
      "2016-04-17T07:14:00.760Z,-0.3852,-80.2013,23.95,5.8,mww,,36,1.728,0.94,us,us20005j62,2020-07-10T16:27:26.859Z,\"33km NE of Bahia de Caraquez, Ecuador\",earthquake,4,3.6,,,reviewed,us,us\n",
      "2016-04-16T23:58:36.980Z,0.3819,-79.9218,20.59,7.8,mww,,15,1.44,0.94,us,us20005j32,2020-08-15T05:15:07.767Z,\"27km SSE of Muisne, Ecuador\",earthquake,5.7,3.2,,,reviewed,us,us\n",
      "2016-04-15T16:45:56.680Z,32.9241,130.8091,10,5.7,mww,,61,0.208,1.23,us,us20005ija,2017-10-11T21:25:39.090Z,\"6km S of Kikuchi, Japan\",earthquake,5.4,0.9,,,reviewed,us,us\n",
      "2016-04-15T16:25:06.220Z,32.7906,130.7543,10,7,mww,,32,0.349,0.85,us,us20005iis,2020-08-15T00:36:34.387Z,\"1km E of Kumamoto-shi, Japan\",earthquake,4.9,1.7,,,reviewed,us,us\n",
      "2016-04-15T14:11:26.430Z,13.4008,-92.367,22.41,6.1,mww,,63,1.293,1.39,us,us20005ih9,2016-11-10T22:15:20.545Z,\"110km SSW of Champerico, Guatemala\",earthquake,5.3,3,,,reviewed,us,us\n",
      "2016-04-14T21:50:27.680Z,-14.5284,166.4334,16,6.4,mww,,23,1.178,1.05,us,us20005i6p,2020-07-10T16:27:14.017Z,\"87km NW of Port-Olry, Vanuatu\",earthquake,6.4,1.6,,,reviewed,us,us\n",
      "2016-04-14T15:03:47.240Z,32.6973,130.7204,8,6,mww,,32,0.446,0.86,us,us20005i1a,2020-07-07T22:50:21.390Z,\"5km ENE of Uto, Japan\",earthquake,3.9,1.7,,,reviewed,us,us\n",
      "2016-04-14T12:26:35.730Z,32.788,130.7042,9,6.2,mww,,18,0.366,1.14,us,us20005hzn,2020-07-07T22:49:59.388Z,\"3km W of Kumamoto-shi, Japan\",earthquake,4.6,1.7,,,reviewed,us,us\n",
      "2016-04-14T12:17:05.160Z,-14.4907,166.5026,7.47,5.9,mww,,15,1.167,1.27,us,us20005hzl,2020-07-10T16:27:03.560Z,\"85km NW of Port-Olry, Vanuatu\",earthquake,6.7,3,,,reviewed,us,us\n",
      "2016-04-14T03:06:09.000Z,53.77,160.8036,32,5.8,mww,,80,1.49,0.62,us,us20005hxx,2016-11-10T22:15:13.672Z,\"164km ENE of Petropavlovsk-Kamchatskiy, Russia\",earthquake,5.4,1.8,,,reviewed,us,us\n",
      "2016-04-13T18:21:52.730Z,7.7917,122.0231,17,6,mww,,19,3.598,0.93,us,us20005hux,2020-07-10T16:26:49.145Z,\"15km NW of Siocon, Philippines\",earthquake,3.3,1.6,,,reviewed,us,us\n",
      "2016-04-13T13:55:17.800Z,23.0944,94.8654,136,6.9,mww,,14,3.001,1.03,us,us20005hqz,2020-07-10T16:26:32.683Z,\"75km SE of Mawlaik, Burma\",earthquake,7.1,1.8,,,reviewed,us,us\n",
      "2016-04-12T03:22:47.710Z,-3.7568,-103.9367,10,5.8,mwb,,48,13.979,0.64,us,us20005haz,2016-11-10T22:15:09.621Z,\"Central East Pacific Rise\",earthquake,11.9,1.8,0.04,60,reviewed,us,us\n",
      "2016-04-10T10:28:58.720Z,36.4725,71.1311,212,6.6,mww,,17,0.789,1.03,us,us20005gsg,2020-07-10T16:26:05.575Z,\"42km WSW of Ashkasham, Afghanistan\",earthquake,6.5,1.8,,,reviewed,us,us\n",
      "2016-04-10T02:14:34.590Z,-4.1489,102.211,41,5.7,mww,,15,0.771,1.15,us,us20005gqv,2020-07-10T16:25:43.219Z,\"39km S of Bengkulu, Indonesia\",earthquake,6.1,1.8,,,reviewed,us,us\n",
      "2016-04-07T03:32:53.500Z,-13.9805,166.5943,27.59,6.7,mww,,25,6.787,0.76,us,us20005fzn,2017-10-11T21:23:46.285Z,\"103km W of Sola, Vanuatu\",earthquake,7.1,3.1,,,reviewed,us,us\n",
      "2016-04-06T14:45:29.620Z,-8.2036,107.3857,29,6.1,mww,,31,1.39,1.44,us,us20005fv5,2020-07-10T16:25:28.594Z,\"71km SSW of Bunisari, Indonesia\",earthquake,5.3,1.7,,,reviewed,us,us\n",
      "2016-04-06T07:57:37.570Z,-14.2026,166.6391,35,5.9,mww,,25,6.563,1.16,us,us20005ft6,2016-11-10T22:15:01.041Z,\"103km NNW of Port-Olry, Vanuatu\",earthquake,7.3,1.9,,,reviewed,us,us\n",
      "2016-04-06T06:58:48.210Z,-14.0683,166.6245,24,6.7,mww,,19,6.697,1.22,us,us20005fsi,2017-10-11T21:23:35.358Z,\"102km WSW of Sola, Vanuatu\",earthquake,7.6,1.8,,,reviewed,us,us\n",
      "2016-04-06T06:54:53.390Z,-14.1516,166.7012,35,5.8,mww,,28,6.609,1.03,us,us20005fsh,2016-06-17T21:45:44.040Z,\"96km WSW of Sola, Vanuatu\",earthquake,7.7,1.9,,,reviewed,us,us\n",
      "2016-04-05T08:29:20.950Z,4.2073,126.6515,35,5.9,mww,,41,3.037,1.25,us,us20005fjj,2020-07-10T16:25:15.005Z,\"186km SE of Sarangani, Philippines\",earthquake,6.8,1.8,,,reviewed,us,us\n",
      "2016-04-03T08:23:52.320Z,-14.3235,166.8551,26,6.9,mww,,25,1.166,1.09,us,us20005e8t,2017-10-11T21:23:16.268Z,\"83km NNW of Port-Olry, Vanuatu\",earthquake,6.4,1.7,,,reviewed,us,us\n",
      "2016-04-02T05:50:00.932Z,57.008,-157.9322,11.4,6.2,mw,,,,0.9,ak,ak01649w95tp,2019-05-21T07:14:30.009Z,\"98km NNE of Chignik Lake, Alaska\",earthquake,,0.3,,,reviewed,ak,ak\n",
      "2016-04-01T19:24:55.370Z,-3.3585,144.887,6,6.2,mww,,37,2.8,1.42,us,us20005e01,2020-07-10T16:24:59.178Z,\"119km NE of Angoram, Papua New Guinea\",earthquake,6.5,1.8,,,reviewed,us,us\n",
      "2016-04-01T02:39:08.050Z,33.3807,136.3901,14,5.9,mww,,27,2.034,0.73,us,us20005du0,2020-07-10T16:24:47.163Z,\"54km SE of Shingu, Japan\",earthquake,5.3,0.8,,,reviewed,us,us\n",
      "2016-03-29T04:53:01.200Z,35.99,-97.5773,5.183,4.2,mwr,,70,,0.53,us,us20005d3n,2020-08-25T22:34:55.918Z,\"4km NNE of Crescent, Oklahoma\",earthquake,1,6.6,0.031,102,reviewed,tul,us\n",
      "2016-03-27T18:01:30.960Z,52.175,-168.6554,16,5.8,mww,,60,0.807,1.1,us,us20005cr4,2019-05-21T07:11:05.013Z,\"86km S of Nikolski, Alaska\",earthquake,4.9,1.8,,,reviewed,us,us\n",
      "2016-03-20T22:50:20.430Z,54.294,162.8129,30,6.4,mww,,20,2.785,0.71,us,us20005bbh,2016-11-10T22:14:42.935Z,\"216km S of Ust'-Kamchatsk Staryy, Russia\",earthquake,4.5,1.8,,,reviewed,us,us\n",
      "2016-03-20T16:43:59.650Z,19.8465,-155.6991667,30.413,4.59,ml,27,112,,0.1,hv,hv61207881,2020-07-06T20:56:57.770Z,\"13 km SE of Waikoloa, Hawaii\",earthquake,0.55,0.79,0.182,17,reviewed,hv,hv\n",
      "2016-03-19T11:26:33.230Z,17.996,-60.7019,26,6,mww,,27,1.082,1.16,us,us20005azy,2016-11-10T22:14:41.786Z,\"124km ENE of Codrington, Barbuda\",earthquake,6.4,1.7,,,reviewed,us,us\n",
      "2016-03-19T08:51:24.920Z,-5.5662,129.4922,269.8,5.7,mww,,28,2.996,0.76,us,us20005az4,2016-06-09T21:41:50.040Z,\"239km SSE of Saparua, Indonesia\",earthquake,7.4,5.9,,,reviewed,us,us\n",
      "2016-03-19T01:35:12.170Z,51.5145,-174.1423,17,6,mww,,25,0.689,0.83,us,us20005axu,2019-05-21T07:05:24.112Z,\"75km S of Atka, Alaska\",earthquake,5.5,1.7,,,reviewed,us,us\n",
      "2016-03-12T18:06:44.760Z,51.5648,-173.9423,19,6.3,mww,,20,0.657,0.87,us,us10004x1w,2019-05-21T07:00:55.864Z,\"72km SSE of Atka, Alaska\",earthquake,3.9,1.5,,,reviewed,us,us\n",
      "2016-03-12T08:42:40.300Z,34.5216667,-119.0748333,19.3,4.13,mw,85,40,0.09913,0.32,ci,ci37534768,2016-05-21T00:05:26.040Z,\"17km ENE of Ojai, CA\",earthquake,0.24,0.43,,4,reviewed,ci,ci\n",
      "2016-03-08T05:36:28.410Z,-15.1081,-173.4281,33,5.9,mww,,40,1.994,1.36,us,us10004vz7,2016-11-10T22:14:22.443Z,\"99km NNE of Hihifo, Tonga\",earthquake,7.6,1.8,,,reviewed,us,us\n",
      "2016-03-03T21:47:50.460Z,-3.3298,148.8245,10,5.9,mwc,,18,1.937,0.96,us,us10004uik,2016-11-10T22:14:18.732Z,\"225km SE of Lorengau, Papua New Guinea\",earthquake,6.4,1.8,,,reviewed,us,gcmt\n",
      "2016-03-02T12:49:48.110Z,-4.9521,94.3299,24,7.8,mww,,20,7.009,1.14,us,us10004u1y,2018-12-04T22:30:13.007Z,\"Southwest of Sumatra, Indonesia\",earthquake,7.5,1.8,,,reviewed,us,us\n",
      "2016-02-27T21:29:43.570Z,-51.7897,139.5956,10,6.1,mww,,44,10.307,0.61,us,us10004t7g,2016-11-10T22:14:02.480Z,\"Western Indian-Antarctic Ridge\",earthquake,8.8,1.7,,,reviewed,us,us\n",
      "2016-02-26T01:49:36.830Z,-62.2092,155.2569,10,5.7,mwb,,36,15.531,0.88,us,us10004ssu,2016-11-10T22:13:54.440Z,\"Balleny Islands region\",earthquake,12.1,1.8,0.083,14,reviewed,us,us\n",
      "2016-02-24T00:02:23.630Z,35.5423333,-119.3728333,22.14,4.87,mw,84,37,0.295,0.29,ci,ci37528064,2018-01-07T01:45:07.687Z,\"6km SSW of Wasco, CA\",earthquake,0.24,0.65,,6,reviewed,ci,ci\n",
      "2016-02-23T18:08:46.570Z,-63.0433,145.002,10,5.8,mww,,30,11.19,0.88,us,us10004s4c,2016-11-10T22:13:40.149Z,\"South of Australia\",earthquake,9.2,1.7,,,reviewed,us,us\n",
      "2016-02-22T06:36:59.400Z,-30.4242,-72.2967,12,6,mww,,39,0.622,1.37,us,us10004rn7,2016-11-10T22:13:35.520Z,\"105km WSW of Coquimbo, Chile\",earthquake,4.7,1.7,,,reviewed,us,us\n",
      "2016-02-20T15:51:23.270Z,-21.9559,-179.4072,582.65,5.8,mww,,60,4.823,0.97,us,us10004rdp,2016-11-10T22:13:17.749Z,\"162km SSW of Ndoi Island, Fiji\",earthquake,10.1,4.4,,,reviewed,us,us\n",
      "2016-02-20T06:13:20.330Z,34.6098333,-116.6288333,6.7,4.31,mw,153,27,0.03412,0.16,ci,ci37526424,2016-05-03T23:44:12.040Z,\"36km ENE of Lucerne Valley, CA\",earthquake,0.09,0.35,,6,reviewed,ci,ci\n",
      "2016-02-17T17:26:02.210Z,0.8597,129.0605,9,6,mww,,22,1.695,1,us,us200050wc,2016-11-10T22:12:48.774Z,\"151km SE of Tobelo, Indonesia\",earthquake,6,1.7,,,reviewed,us,us\n",
      "2016-02-16T23:48:35.680Z,-55.7841,-125.1659,13,6.1,mww,,71,30.841,1.19,us,us200050pj,2016-11-10T22:12:42.811Z,\"Southern East Pacific Rise\",earthquake,12,1.8,,,reviewed,us,us\n",
      "2016-02-16T23:04:26.910Z,37.2023333,-118.4035,15.06,4.77,mw,52,104,0.118,0.07,nc,nc72592670,2018-07-02T17:47:58.587Z,\"10km WNW of Big Pine, California\",earthquake,0.27,0.63,,6,reviewed,nc,nc\n",
      "2016-02-16T10:46:30.010Z,-16.4442,-73.6045,29,5.7,mww,,83,3.656,1.03,us,us200050iw,2020-07-10T16:23:44.571Z,\"97km WNW of Camana, Peru\",earthquake,7.3,1.8,,,reviewed,us,us\n",
      "2016-02-16T09:24:20.700Z,34.3026667,-116.8633333,3.14,3.87,mw,115,37,0.05411,0.16,ci,ci37524376,2019-11-21T17:19:40.290Z,\"5km NNW of Big Bear City, CA\",earthquake,0.1,0.35,,6,reviewed,ci,ci\n",
      "2016-02-15T19:28:04.590Z,-49.0481,164.4987,10,5.9,mww,,49,3.239,0.83,us,us200050ei,2016-11-10T22:12:32.019Z,\"219km NNW of Auckland Island, New Zealand\",earthquake,9.1,1.7,,,reviewed,us,us\n",
      "2016-02-15T15:02:32.890Z,-20.9981,-175.4788,10,6,mww,,47,5.558,0.65,us,us200050a6,2017-10-11T21:22:44.854Z,\"32km WNW of Nuku`alofa, Tonga\",earthquake,8.9,1.8,,,reviewed,us,us\n",
      "2016-02-15T10:41:46.974Z,60.8957,-150.0123,47.9,4.2,mw,,,,0.81,ak,ak016248x6qx,2019-05-21T06:45:20.475Z,\"36km S of Anchorage, Alaska\",earthquake,,0.2,,,reviewed,ak,ak\n",
      "2016-02-14T18:09:26.290Z,30.2966,138.8823,410,5.7,mww,,29,2.92,0.99,us,us2000505t,2016-11-10T22:12:26.331Z,\"Izu Islands, Japan region\",earthquake,8,1.9,,,reviewed,us,us\n",
      "2016-02-14T00:13:44.040Z,-43.4798,172.7715,7.63,5.8,mww,,33,0.241,0.9,us,us20005019,2020-07-07T22:49:45.236Z,\"12km ENE of Christchurch, New Zealand\",earthquake,3.7,2.7,,,reviewed,us,us\n",
      "2016-02-13T17:07:06.290Z,36.4898,-98.709,8.31,5.1,mww,,17,0.218,1.09,us,us20004zy8,2020-07-10T16:23:33.732Z,\"31km NW of Fairview, Oklahoma\",earthquake,1.8,3.7,,,reviewed,us,us\n",
      "2016-02-12T10:02:24.050Z,-9.6338,119.4013,28,6.3,mww,,39,2.971,1.14,us,us20004zp9,2020-07-10T16:23:22.877Z,\"0km W of Komerda, Indonesia\",earthquake,6.4,1.7,,,reviewed,us,us\n",
      "2016-02-10T00:33:05.340Z,-30.5723,-71.5838,29,6.3,mww,,45,0.11,0.81,us,us20004z5b,2020-07-10T16:23:11.755Z,\"36km W of Ovalle, Chile\",earthquake,4.5,1.8,,,reviewed,us,us\n",
      "2016-02-08T16:19:12.780Z,-6.6207,154.7421,29,6.4,mww,,11,5.865,0.63,us,us20004yr0,2020-07-10T16:22:57.487Z,\"88km WSW of Panguna, Papua New Guinea\",earthquake,7.7,1.7,,,reviewed,us,us\n",
      "2016-02-07T02:03:40.380Z,-15.2216,-173.3951,51,5.8,mww,,41,2.038,0.88,us,us20004yh2,2016-11-10T22:11:36.722Z,\"89km NNE of Hihifo, Tonga\",earthquake,9.2,1.8,,,reviewed,us,us\n",
      "2016-02-06T01:39:18.550Z,-16.9899,174.9389,10,5.7,mww,,38,3.067,0.81,us,us20004y98,2016-11-10T22:11:32.151Z,\"277km WNW of Lautoka, Fiji\",earthquake,6.4,1.7,,,reviewed,us,us\n",
      "2016-02-05T19:57:27.380Z,22.9375,120.6014,23,6.4,mww,,14,0.362,1.19,us,us20004y6h,2020-08-15T04:11:16.409Z,\"25km SE of Yujing, Taiwan\",earthquake,4.2,1.7,,,reviewed,us,us\n",
      "2016-02-02T14:19:23.030Z,25.5745,123.4476,196,5.7,mww,,28,1.171,0.84,us,us20004wk0,2016-11-10T22:11:04.775Z,\"130km NNE of Yonakuni, Japan\",earthquake,6.6,1.8,,,reviewed,us,us\n",
      "2016-02-01T19:00:46.280Z,-30.7539,-179.9504,391,6.2,mww,,14,2.31,1.03,us,us20004wck,2016-11-10T22:10:53.742Z,\"125km NW of L'Esperance Rock, New Zealand\",earthquake,8.7,1.8,,,reviewed,us,us\n",
      "2016-01-31T17:38:59.950Z,-63.263,169.1485,10,6.1,mww,,75,14.512,0.62,us,us20004w6c,2016-11-10T22:10:48.238Z,\"Balleny Islands region\",earthquake,11.2,1.8,,,reviewed,us,us\n",
      "2016-01-31T02:50:05.980Z,-2.8659,147.1385,10,5.7,mww,,24,0.848,1.11,us,us20004w3k,2016-11-10T22:10:42.815Z,\"94km S of Lorengau, Papua New Guinea\",earthquake,6.1,1.7,,,reviewed,us,us\n",
      "2016-01-30T03:25:12.220Z,53.9776,158.5463,177,7.2,mww,,17,0.958,1.19,us,us20004vvx,2020-07-07T22:49:26.283Z,\"88km N of Yelizovo, Russia\",earthquake,5.8,1.8,,,reviewed,us,us\n",
      "2016-01-28T18:23:45.000Z,39.3,-74.3,0,0,mb_lg,,,,0,us,us20004vbk,2020-01-31T01:26:27.422Z,\"12km SE of Atlantic City, New Jersey\",sonic boom,0,0,,,reviewed,spec,spec\n",
      "2016-01-27T15:11:17.550Z,1.0248,-28.1447,10,5.7,mww,,34,10.311,1.07,us,us20004v38,2016-11-10T22:10:20.087Z,\"Central Mid-Atlantic Ridge\",earthquake,8.1,1.8,,,reviewed,us,us\n",
      "2016-01-26T03:10:20.750Z,-5.2952,153.2454,26,6.1,mww,,25,1.537,0.74,us,us20004uks,2016-11-10T22:10:03.221Z,\"94km SSE of Taron, Papua New Guinea\",earthquake,6.2,1.8,,,reviewed,us,us\n",
      "2016-01-25T04:22:02.730Z,35.6493,-3.6818,12,6.3,mww,,20,2.201,0.92,us,us10004gy9,2020-07-10T14:59:40.266Z,\"50km NNE of Al Hoceima, Morocco\",earthquake,5.9,1.7,,,reviewed,us,us\n",
      "2016-01-25T00:00:11.130Z,-19.5324,-173.3833,53,5.7,mww,,34,3.295,1.36,us,us10004gx7,2016-11-10T22:09:45.295Z,\"105km ENE of Pangai, Tonga\",earthquake,6.2,1.8,,,reviewed,us,us\n",
      "2016-01-24T10:30:29.557Z,59.6204,-153.3392,125.6,7.1,mw,,,,1.05,ak,ak01613v15nv,2020-07-07T22:45:53.847Z,\"86km E of Old Iliamna, Alaska\",earthquake,,0.4,,,reviewed,ak,ak\n",
      "2016-01-21T18:06:57.650Z,18.8239,-106.9337,10,6.6,mww,,74,2.413,0.98,us,us10004g4l,2016-11-10T22:09:24.127Z,\"215km SW of Tomatlan, Mexico\",earthquake,6.7,1.7,,,reviewed,us,us\n",
      "2016-01-20T17:13:13.650Z,37.6709,101.6409,9,5.9,mww,,10,9.84,0.88,us,us10004fv5,2017-10-11T21:20:27.327Z,\"70km ESE of Hongtu, China\",earthquake,7.1,1.6,,,reviewed,us,us\n",
      "2016-01-18T18:24:18.440Z,-21.4088,176.1244,7.05,5.8,mww,,42,4.073,0.88,us,us10004feg,2016-11-10T22:08:58.020Z,\"164km ENE of Ceva-i-Ra, Fiji\",earthquake,5.8,3.3,,,reviewed,us,us\n",
      "2016-01-18T04:05:56.098Z,62.1032,-150.64,10.1,4.5,mw,,,,0.86,ak,ak016tu367t,2019-05-21T06:21:16.477Z,\"36km SW of Talkeetna, Alaska\",earthquake,,0.2,,,reviewed,ak,ak\n",
      "2016-01-14T03:25:33.640Z,41.9723,142.781,46,6.7,mww,,22,0.281,0.98,us,us10004ebx,2020-07-07T22:45:34.603Z,\"52km SE of Shizunai, Japan\",earthquake,6.2,1.9,,,reviewed,us,us\n",
      "2016-01-14T03:25:28.270Z,-19.7597,-63.3288,582.56,6.1,mww,,16,5.492,1.04,us,us10004ebw,2016-11-10T22:08:17.357Z,\"12km WNW of Charagua, Bolivia\",earthquake,7.9,4.6,,,reviewed,us,us\n",
      "2016-01-13T05:56:02.190Z,-15.1703,-174.875,263,5.9,mww,,20,3.251,1.13,us,us10004dxr,2016-11-10T22:08:09.415Z,\"148km NW of Hihifo, Tonga\",earthquake,8.7,1.9,,,reviewed,us,us\n",
      "2016-01-12T20:04:59.710Z,36.5979,70.9503,239,5.7,mww,,20,0.606,1.07,us,us10004dtm,2020-07-10T14:58:21.969Z,\"31km SSE of Jarm, Afghanistan\",earthquake,6,1.8,,,reviewed,us,us\n",
      "2016-01-12T09:45:11.430Z,-31.3385,58.1916,10,5.9,mww,,16,10.361,1.11,us,us10004dqh,2016-11-10T22:08:01.437Z,\"Southwest Indian Ridge\",earthquake,8.9,1.7,,,reviewed,us,us\n",
      "2016-01-11T17:08:03.920Z,44.4761,141.0867,238.81,6.2,mww,,33,1.139,0.96,us,us10004djn,2020-07-10T14:58:07.726Z,\"74km NW of Rumoi, Japan\",earthquake,6.9,4.1,,,reviewed,us,us\n",
      "2016-01-11T16:38:05.900Z,3.8965,126.8621,13,6.5,mww,,22,3.144,0.72,us,us10004dj5,2020-07-10T14:57:54.746Z,\"227km SE of Sarangani, Philippines\",earthquake,4.2,1.5,,,reviewed,us,us\n",
      "2016-01-11T03:13:52.380Z,33.9525,-117.9071667,3.82,2.98,ml,156,14,0.01548,0.23,ci,ci37511872,2016-03-30T02:27:53.040Z,\"3km S of Rowland Heights, CA\",earthquake,0.13,0.28,0.211,269,reviewed,ci,ci\n",
      "2016-01-08T01:12:01.020Z,-30.664,-71.6383,24.03,5.7,mww,,76,0.01,0.79,us,us10004c96,2020-07-10T14:57:43.316Z,\"42km W of Ovalle, Chile\",earthquake,4.6,3,,,reviewed,us,us\n",
      "2016-01-07T05:49:52.430Z,40.2731667,-124.3395,16.95,4.31,mw,24,213,0.05856,0.14,nc,nc72574495,2020-05-21T01:28:57.504Z,\"31km SW of Rio Dell, California\",earthquake,0.62,0.34,,6,reviewed,nc,nc\n",
      "2016-01-07T04:27:57.600Z,36.4955,-98.7254,4.058,4.7,mww,,118,,0.99,us,us10004bz5,2020-07-10T14:57:32.165Z,\"33km NW of Fairview, Oklahoma\",earthquake,4.1,3.5,,,reviewed,tul,us\n",
      "2016-01-06T14:42:34.880Z,33.9585,-116.8883333,16.67,4.39,mw,136,12,0.05405,0.18,ci,ci37510616,2020-05-21T04:33:54.669Z,\"4km NNW of Banning, CA\",earthquake,0.11,0.27,,6,reviewed,ci,ci\n",
      "2016-01-06T01:30:01.480Z,41.2996,129.0467,0,5.1,mb,,21,3.34,0.83,us,us10004bnm,2017-09-03T04:20:01.133Z,\"21km ENE of Sungjibaegam, North Korea\",nuclear explosion,6,1.7,0.032,306,reviewed,us,us\n",
      "2016-01-05T21:59:50.150Z,22.0669,143.6108,158,5.7,mww,,9,5.172,0.9,us,us10004bm0,2016-11-10T22:07:14.618Z,\"215km NW of Farallon de Pajaros, Northern Mariana Islands\",earthquake,7.8,1.8,,,reviewed,us,us\n",
      "2016-01-05T09:34:14.620Z,-54.2906,-136.2603,10,6,mww,,71,30.75,0.67,us,us10004bgk,2016-11-10T22:07:11.921Z,\"Pacific-Antarctic Ridge\",earthquake,12.8,1.8,,,reviewed,us,us\n",
      "2016-01-05T02:21:11.340Z,30.6132,132.7337,4.71,5.8,mww,,29,2.151,0.48,us,us10004ben,2016-11-10T22:07:08.048Z,\"166km E of Nishinoomote, Japan\",earthquake,2,3.2,,,reviewed,us,us\n",
      "2016-01-03T23:05:22.270Z,24.8036,93.6505,55,6.7,mww,,16,1.794,1.01,us,us10004b2n,2020-07-10T14:57:13.847Z,\"30km W of Imphal, India\",earthquake,4.5,1.8,,,reviewed,us,us\n",
      "2016-01-02T04:22:19.570Z,44.8069,129.9406,585.47,5.8,mww,,12,0.311,0.89,us,us10004atb,2020-07-10T14:56:45.452Z,\"19km ENE of Chaihe, China\",earthquake,8.1,3.6,,,reviewed,us,us\n",
      "2016-01-01T15:02:16.740Z,-28.6278,-177.281,34,5.8,mww,,62,0.837,1.28,us,us10004aqy,2016-11-10T22:06:48.714Z,\"93km NE of Raoul Island, New Zealand\",earthquake,7.8,1.2,,,reviewed,us,us\n",
      "2016-01-01T11:39:39.800Z,35.6688,-97.4065,5.825,4.2,mwr,,49,,0.81,us,us10004aqg,2020-07-10T14:56:33.959Z,\"6km ENE of Edmond, Oklahoma\",earthquake,1.8,4.6,0.03,104,reviewed,tul,us\n",
      "2016-01-01T02:00:39.950Z,-50.5575,139.4489,10,6.3,mww,,19,9.361,0.88,us,us10004ant,2016-11-10T22:06:45.862Z,\"Western Indian-Antarctic Ridge\",earthquake,6.9,1.6,,,reviewed,us,us\n",
      "\n"
     ]
    }
   ],
   "source": [
    "import requests\n",
    "from io import StringIO\n",
    "import matplotlib.pyplot as plt\n",
    "import pandas as pd\n",
    "\n",
    "%matplotlib inline\n",
    "\n",
    "# make the web request. The result will be in the object 'r'\n",
    "r = requests.get('http://earthquake.usgs.gov/fdsnws/event/1/query?format=csv&endtime=2017-01-01T00:00:00.000Z&minsig=500&starttime=2016-01-01T00:00:00.000Z')\n",
    "\n",
    "print(r.text)\n"
   ]
  },
  {
   "cell_type": "markdown",
   "metadata": {
    "deletable": true,
    "editable": true
   },
   "source": [
    "The returned information will be more useful if we store it in a structured dataframe with column names:"
   ]
  },
  {
   "cell_type": "code",
   "execution_count": 3,
   "metadata": {
    "collapsed": false,
    "deletable": true,
    "editable": true,
    "jupyter": {
     "outputs_hidden": false
    }
   },
   "outputs": [
    {
     "data": {
      "text/html": [
       "<div>\n",
       "<style scoped>\n",
       "    .dataframe tbody tr th:only-of-type {\n",
       "        vertical-align: middle;\n",
       "    }\n",
       "\n",
       "    .dataframe tbody tr th {\n",
       "        vertical-align: top;\n",
       "    }\n",
       "\n",
       "    .dataframe thead th {\n",
       "        text-align: right;\n",
       "    }\n",
       "</style>\n",
       "<table border=\"1\" class=\"dataframe\">\n",
       "  <thead>\n",
       "    <tr style=\"text-align: right;\">\n",
       "      <th></th>\n",
       "      <th>time</th>\n",
       "      <th>latitude</th>\n",
       "      <th>longitude</th>\n",
       "      <th>depth</th>\n",
       "      <th>mag</th>\n",
       "      <th>magType</th>\n",
       "      <th>nst</th>\n",
       "      <th>gap</th>\n",
       "      <th>dmin</th>\n",
       "      <th>rms</th>\n",
       "      <th>...</th>\n",
       "      <th>updated</th>\n",
       "      <th>place</th>\n",
       "      <th>type</th>\n",
       "      <th>horizontalError</th>\n",
       "      <th>depthError</th>\n",
       "      <th>magError</th>\n",
       "      <th>magNst</th>\n",
       "      <th>status</th>\n",
       "      <th>locationSource</th>\n",
       "      <th>magSource</th>\n",
       "    </tr>\n",
       "  </thead>\n",
       "  <tbody>\n",
       "    <tr>\n",
       "      <th>0</th>\n",
       "      <td>2016-12-29T22:30:19.300Z</td>\n",
       "      <td>-9.0279</td>\n",
       "      <td>118.6639</td>\n",
       "      <td>79.000</td>\n",
       "      <td>6.3</td>\n",
       "      <td>mww</td>\n",
       "      <td>NaN</td>\n",
       "      <td>26.00</td>\n",
       "      <td>3.553</td>\n",
       "      <td>1.4200</td>\n",
       "      <td>...</td>\n",
       "      <td>2020-07-10T15:19:10.234Z</td>\n",
       "      <td>29km S of Tolotangga, Indonesia</td>\n",
       "      <td>earthquake</td>\n",
       "      <td>6.2</td>\n",
       "      <td>1.8</td>\n",
       "      <td>NaN</td>\n",
       "      <td>NaN</td>\n",
       "      <td>reviewed</td>\n",
       "      <td>us</td>\n",
       "      <td>us</td>\n",
       "    </tr>\n",
       "    <tr>\n",
       "      <th>1</th>\n",
       "      <td>2016-12-28T12:38:49.650Z</td>\n",
       "      <td>36.8604</td>\n",
       "      <td>140.4421</td>\n",
       "      <td>7.000</td>\n",
       "      <td>5.9</td>\n",
       "      <td>mww</td>\n",
       "      <td>NaN</td>\n",
       "      <td>33.00</td>\n",
       "      <td>1.044</td>\n",
       "      <td>0.9100</td>\n",
       "      <td>...</td>\n",
       "      <td>2020-07-10T15:18:56.613Z</td>\n",
       "      <td>13km NE of Daigo, Japan</td>\n",
       "      <td>earthquake</td>\n",
       "      <td>4.6</td>\n",
       "      <td>1.7</td>\n",
       "      <td>NaN</td>\n",
       "      <td>NaN</td>\n",
       "      <td>reviewed</td>\n",
       "      <td>us</td>\n",
       "      <td>us</td>\n",
       "    </tr>\n",
       "    <tr>\n",
       "      <th>2</th>\n",
       "      <td>2016-12-28T09:13:47.243Z</td>\n",
       "      <td>38.3777</td>\n",
       "      <td>-118.8957</td>\n",
       "      <td>8.800</td>\n",
       "      <td>5.5</td>\n",
       "      <td>ml</td>\n",
       "      <td>33.0</td>\n",
       "      <td>48.58</td>\n",
       "      <td>0.129</td>\n",
       "      <td>0.2187</td>\n",
       "      <td>...</td>\n",
       "      <td>2020-05-21T01:43:17.438Z</td>\n",
       "      <td>28km SW of Hawthorne, Nevada</td>\n",
       "      <td>earthquake</td>\n",
       "      <td>NaN</td>\n",
       "      <td>2.0</td>\n",
       "      <td>0.26</td>\n",
       "      <td>18.0</td>\n",
       "      <td>reviewed</td>\n",
       "      <td>nn</td>\n",
       "      <td>nn</td>\n",
       "    </tr>\n",
       "    <tr>\n",
       "      <th>3</th>\n",
       "      <td>2016-12-28T08:22:12.208Z</td>\n",
       "      <td>38.3904</td>\n",
       "      <td>-118.8972</td>\n",
       "      <td>12.200</td>\n",
       "      <td>5.6</td>\n",
       "      <td>ml</td>\n",
       "      <td>43.0</td>\n",
       "      <td>42.44</td>\n",
       "      <td>0.123</td>\n",
       "      <td>0.1913</td>\n",
       "      <td>...</td>\n",
       "      <td>2018-07-02T18:09:31.575Z</td>\n",
       "      <td>26km SW of Hawthorne, Nevada</td>\n",
       "      <td>earthquake</td>\n",
       "      <td>NaN</td>\n",
       "      <td>1.2</td>\n",
       "      <td>0.32</td>\n",
       "      <td>18.0</td>\n",
       "      <td>reviewed</td>\n",
       "      <td>nn</td>\n",
       "      <td>nn</td>\n",
       "    </tr>\n",
       "    <tr>\n",
       "      <th>4</th>\n",
       "      <td>2016-12-28T08:18:00.613Z</td>\n",
       "      <td>38.3755</td>\n",
       "      <td>-118.8989</td>\n",
       "      <td>11.300</td>\n",
       "      <td>5.6</td>\n",
       "      <td>ml</td>\n",
       "      <td>37.0</td>\n",
       "      <td>35.89</td>\n",
       "      <td>0.133</td>\n",
       "      <td>0.1599</td>\n",
       "      <td>...</td>\n",
       "      <td>2020-07-10T14:27:55.840Z</td>\n",
       "      <td>27km SW of Hawthorne, Nevada</td>\n",
       "      <td>earthquake</td>\n",
       "      <td>NaN</td>\n",
       "      <td>1.0</td>\n",
       "      <td>0.35</td>\n",
       "      <td>20.0</td>\n",
       "      <td>reviewed</td>\n",
       "      <td>nn</td>\n",
       "      <td>nn</td>\n",
       "    </tr>\n",
       "    <tr>\n",
       "      <th>...</th>\n",
       "      <td>...</td>\n",
       "      <td>...</td>\n",
       "      <td>...</td>\n",
       "      <td>...</td>\n",
       "      <td>...</td>\n",
       "      <td>...</td>\n",
       "      <td>...</td>\n",
       "      <td>...</td>\n",
       "      <td>...</td>\n",
       "      <td>...</td>\n",
       "      <td>...</td>\n",
       "      <td>...</td>\n",
       "      <td>...</td>\n",
       "      <td>...</td>\n",
       "      <td>...</td>\n",
       "      <td>...</td>\n",
       "      <td>...</td>\n",
       "      <td>...</td>\n",
       "      <td>...</td>\n",
       "      <td>...</td>\n",
       "      <td>...</td>\n",
       "    </tr>\n",
       "    <tr>\n",
       "      <th>345</th>\n",
       "      <td>2016-01-03T23:05:22.270Z</td>\n",
       "      <td>24.8036</td>\n",
       "      <td>93.6505</td>\n",
       "      <td>55.000</td>\n",
       "      <td>6.7</td>\n",
       "      <td>mww</td>\n",
       "      <td>NaN</td>\n",
       "      <td>16.00</td>\n",
       "      <td>1.794</td>\n",
       "      <td>1.0100</td>\n",
       "      <td>...</td>\n",
       "      <td>2020-07-10T14:57:13.847Z</td>\n",
       "      <td>30km W of Imphal, India</td>\n",
       "      <td>earthquake</td>\n",
       "      <td>4.5</td>\n",
       "      <td>1.8</td>\n",
       "      <td>NaN</td>\n",
       "      <td>NaN</td>\n",
       "      <td>reviewed</td>\n",
       "      <td>us</td>\n",
       "      <td>us</td>\n",
       "    </tr>\n",
       "    <tr>\n",
       "      <th>346</th>\n",
       "      <td>2016-01-02T04:22:19.570Z</td>\n",
       "      <td>44.8069</td>\n",
       "      <td>129.9406</td>\n",
       "      <td>585.470</td>\n",
       "      <td>5.8</td>\n",
       "      <td>mww</td>\n",
       "      <td>NaN</td>\n",
       "      <td>12.00</td>\n",
       "      <td>0.311</td>\n",
       "      <td>0.8900</td>\n",
       "      <td>...</td>\n",
       "      <td>2020-07-10T14:56:45.452Z</td>\n",
       "      <td>19km ENE of Chaihe, China</td>\n",
       "      <td>earthquake</td>\n",
       "      <td>8.1</td>\n",
       "      <td>3.6</td>\n",
       "      <td>NaN</td>\n",
       "      <td>NaN</td>\n",
       "      <td>reviewed</td>\n",
       "      <td>us</td>\n",
       "      <td>us</td>\n",
       "    </tr>\n",
       "    <tr>\n",
       "      <th>347</th>\n",
       "      <td>2016-01-01T15:02:16.740Z</td>\n",
       "      <td>-28.6278</td>\n",
       "      <td>-177.2810</td>\n",
       "      <td>34.000</td>\n",
       "      <td>5.8</td>\n",
       "      <td>mww</td>\n",
       "      <td>NaN</td>\n",
       "      <td>62.00</td>\n",
       "      <td>0.837</td>\n",
       "      <td>1.2800</td>\n",
       "      <td>...</td>\n",
       "      <td>2016-11-10T22:06:48.714Z</td>\n",
       "      <td>93km NE of Raoul Island, New Zealand</td>\n",
       "      <td>earthquake</td>\n",
       "      <td>7.8</td>\n",
       "      <td>1.2</td>\n",
       "      <td>NaN</td>\n",
       "      <td>NaN</td>\n",
       "      <td>reviewed</td>\n",
       "      <td>us</td>\n",
       "      <td>us</td>\n",
       "    </tr>\n",
       "    <tr>\n",
       "      <th>348</th>\n",
       "      <td>2016-01-01T11:39:39.800Z</td>\n",
       "      <td>35.6688</td>\n",
       "      <td>-97.4065</td>\n",
       "      <td>5.825</td>\n",
       "      <td>4.2</td>\n",
       "      <td>mwr</td>\n",
       "      <td>NaN</td>\n",
       "      <td>49.00</td>\n",
       "      <td>NaN</td>\n",
       "      <td>0.8100</td>\n",
       "      <td>...</td>\n",
       "      <td>2020-07-10T14:56:33.959Z</td>\n",
       "      <td>6km ENE of Edmond, Oklahoma</td>\n",
       "      <td>earthquake</td>\n",
       "      <td>1.8</td>\n",
       "      <td>4.6</td>\n",
       "      <td>0.03</td>\n",
       "      <td>104.0</td>\n",
       "      <td>reviewed</td>\n",
       "      <td>tul</td>\n",
       "      <td>us</td>\n",
       "    </tr>\n",
       "    <tr>\n",
       "      <th>349</th>\n",
       "      <td>2016-01-01T02:00:39.950Z</td>\n",
       "      <td>-50.5575</td>\n",
       "      <td>139.4489</td>\n",
       "      <td>10.000</td>\n",
       "      <td>6.3</td>\n",
       "      <td>mww</td>\n",
       "      <td>NaN</td>\n",
       "      <td>19.00</td>\n",
       "      <td>9.361</td>\n",
       "      <td>0.8800</td>\n",
       "      <td>...</td>\n",
       "      <td>2016-11-10T22:06:45.862Z</td>\n",
       "      <td>Western Indian-Antarctic Ridge</td>\n",
       "      <td>earthquake</td>\n",
       "      <td>6.9</td>\n",
       "      <td>1.6</td>\n",
       "      <td>NaN</td>\n",
       "      <td>NaN</td>\n",
       "      <td>reviewed</td>\n",
       "      <td>us</td>\n",
       "      <td>us</td>\n",
       "    </tr>\n",
       "  </tbody>\n",
       "</table>\n",
       "<p>350 rows × 22 columns</p>\n",
       "</div>"
      ],
      "text/plain": [
       "                         time  latitude  longitude    depth  mag magType  \\\n",
       "0    2016-12-29T22:30:19.300Z   -9.0279   118.6639   79.000  6.3     mww   \n",
       "1    2016-12-28T12:38:49.650Z   36.8604   140.4421    7.000  5.9     mww   \n",
       "2    2016-12-28T09:13:47.243Z   38.3777  -118.8957    8.800  5.5      ml   \n",
       "3    2016-12-28T08:22:12.208Z   38.3904  -118.8972   12.200  5.6      ml   \n",
       "4    2016-12-28T08:18:00.613Z   38.3755  -118.8989   11.300  5.6      ml   \n",
       "..                        ...       ...        ...      ...  ...     ...   \n",
       "345  2016-01-03T23:05:22.270Z   24.8036    93.6505   55.000  6.7     mww   \n",
       "346  2016-01-02T04:22:19.570Z   44.8069   129.9406  585.470  5.8     mww   \n",
       "347  2016-01-01T15:02:16.740Z  -28.6278  -177.2810   34.000  5.8     mww   \n",
       "348  2016-01-01T11:39:39.800Z   35.6688   -97.4065    5.825  4.2     mwr   \n",
       "349  2016-01-01T02:00:39.950Z  -50.5575   139.4489   10.000  6.3     mww   \n",
       "\n",
       "      nst    gap   dmin     rms  ...                   updated  \\\n",
       "0     NaN  26.00  3.553  1.4200  ...  2020-07-10T15:19:10.234Z   \n",
       "1     NaN  33.00  1.044  0.9100  ...  2020-07-10T15:18:56.613Z   \n",
       "2    33.0  48.58  0.129  0.2187  ...  2020-05-21T01:43:17.438Z   \n",
       "3    43.0  42.44  0.123  0.1913  ...  2018-07-02T18:09:31.575Z   \n",
       "4    37.0  35.89  0.133  0.1599  ...  2020-07-10T14:27:55.840Z   \n",
       "..    ...    ...    ...     ...  ...                       ...   \n",
       "345   NaN  16.00  1.794  1.0100  ...  2020-07-10T14:57:13.847Z   \n",
       "346   NaN  12.00  0.311  0.8900  ...  2020-07-10T14:56:45.452Z   \n",
       "347   NaN  62.00  0.837  1.2800  ...  2016-11-10T22:06:48.714Z   \n",
       "348   NaN  49.00    NaN  0.8100  ...  2020-07-10T14:56:33.959Z   \n",
       "349   NaN  19.00  9.361  0.8800  ...  2016-11-10T22:06:45.862Z   \n",
       "\n",
       "                                    place        type horizontalError  \\\n",
       "0         29km S of Tolotangga, Indonesia  earthquake             6.2   \n",
       "1                 13km NE of Daigo, Japan  earthquake             4.6   \n",
       "2            28km SW of Hawthorne, Nevada  earthquake             NaN   \n",
       "3            26km SW of Hawthorne, Nevada  earthquake             NaN   \n",
       "4            27km SW of Hawthorne, Nevada  earthquake             NaN   \n",
       "..                                    ...         ...             ...   \n",
       "345               30km W of Imphal, India  earthquake             4.5   \n",
       "346             19km ENE of Chaihe, China  earthquake             8.1   \n",
       "347  93km NE of Raoul Island, New Zealand  earthquake             7.8   \n",
       "348           6km ENE of Edmond, Oklahoma  earthquake             1.8   \n",
       "349        Western Indian-Antarctic Ridge  earthquake             6.9   \n",
       "\n",
       "    depthError  magError  magNst    status  locationSource magSource  \n",
       "0          1.8       NaN     NaN  reviewed              us        us  \n",
       "1          1.7       NaN     NaN  reviewed              us        us  \n",
       "2          2.0      0.26    18.0  reviewed              nn        nn  \n",
       "3          1.2      0.32    18.0  reviewed              nn        nn  \n",
       "4          1.0      0.35    20.0  reviewed              nn        nn  \n",
       "..         ...       ...     ...       ...             ...       ...  \n",
       "345        1.8       NaN     NaN  reviewed              us        us  \n",
       "346        3.6       NaN     NaN  reviewed              us        us  \n",
       "347        1.2       NaN     NaN  reviewed              us        us  \n",
       "348        4.6      0.03   104.0  reviewed             tul        us  \n",
       "349        1.6       NaN     NaN  reviewed              us        us  \n",
       "\n",
       "[350 rows x 22 columns]"
      ]
     },
     "execution_count": 3,
     "metadata": {},
     "output_type": "execute_result"
    }
   ],
   "source": [
    "# read the returned data into a pandas dataframe\n",
    "df = pd.read_csv(StringIO(r.text))\n",
    "\n",
    "df"
   ]
  },
  {
   "cell_type": "markdown",
   "metadata": {
    "deletable": true,
    "editable": true
   },
   "source": [
    "Plotting the data shows us a bit more about what we have downloaded"
   ]
  },
  {
   "cell_type": "code",
   "execution_count": 16,
   "metadata": {
    "collapsed": false,
    "deletable": true,
    "editable": true,
    "jupyter": {
     "outputs_hidden": false
    }
   },
   "outputs": [
    {
     "data": {
      "text/plain": [
       "<AxesSubplot:xlabel='longitude', ylabel='latitude'>"
      ]
     },
     "execution_count": 16,
     "metadata": {},
     "output_type": "execute_result"
    },
    {
     "data": {
      "image/png": "[encoded data removed]",
      "text/plain": [
       "<Figure size 432x288 with 2 Axes>"
      ]
     },
     "metadata": {
      "needs_background": "light"
     },
     "output_type": "display_data"
    }
   ],
   "source": [
    "df.plot.scatter(x='longitude',y='latitude',c='mag',cmap='magma_r')\n",
    "\n"
   ]
  },
  {
   "cell_type": "markdown",
   "metadata": {
    "deletable": true,
    "editable": true
   },
   "source": [
    "### Questions:\n",
    "\n",
    "- What exactly did we request, and what are we plotting?\n",
    "- How can we vary the request to get a different subset of the data within the catalogue we are accessing\n",
    "- Can you write a loop that creates a time-series of images with data for different time periods?\n"
   ]
  },
  {
   "cell_type": "code",
   "execution_count": null,
   "metadata": {
    "collapsed": true,
    "deletable": true,
    "editable": true,
    "jupyter": {
     "outputs_hidden": true
    }
   },
   "outputs": [],
   "source": []
  },
  {
   "cell_type": "markdown",
   "metadata": {
    "deletable": true,
    "editable": true
   },
   "source": [
    "### Fossils\n",
    "\n",
    "Go to this site:\n",
    "\n",
    "https://paleobiodb.org/navigator/\n",
    "\n",
    "As well as playing around with the interface, you should be able to find a way to access the data via http requests just like the one above. In fact, you can use the pbdb navigator to select which type of subset of the database (fossil type, geological period) you want to download. The navigator will provide you with a url that describes the request including the selection criteria you set.\n",
    "\n",
    "Try to load a subset of the fossil data into a pandas dataframe, following a similar recipe to that described above\n",
    "\n",
    "Note, there is at least one non-obvious trick here, which is that you need to specify the output format that you want the data to be sent to you in. You'll need to set this in the http request string.  \n",
    "[HINT: the default is 'json', buit you don't want that.]\n",
    "\n",
    "Download some data and figure out which columns contain what information.  \n",
    "[you can see the column names for any dataframe by running 'df.columns']\n"
   ]
  },
  {
   "cell_type": "code",
   "execution_count": 17,
   "metadata": {
    "collapsed": false,
    "deletable": true,
    "editable": true,
    "jupyter": {
     "outputs_hidden": false
    }
   },
   "outputs": [
    {
     "data": {
      "text/plain": [
       "[<matplotlib.lines.Line2D at 0x15db45af0>]"
      ]
     },
     "execution_count": 17,
     "metadata": {},
     "output_type": "execute_result"
    },
    {
     "data": {
      "image/png": "[encoded data removed]",
      "text/plain": [
       "<Figure size 432x288 with 1 Axes>"
      ]
     },
     "metadata": {
      "needs_background": "light"
     },
     "output_type": "display_data"
    }
   ],
   "source": [
    "# SOLUTION\n",
    "r = requests.get('https://paleobiodb.org/data1.1/occs/list.csv?limit=all&interval_id=15&base_id=18891&show=coords,attr,loc,prot,time,strat,stratext,lith,lithext,geo,rem,ent,entname,crmod&showsource')\n",
    "\n",
    "#print r.text\n",
    "\n",
    "df = pd.read_csv(StringIO(r.text),skiprows=15)\n",
    "\n",
    "plt.plot(df.lng,df.lat,'.')\n"
   ]
  },
  {
   "cell_type": "code",
   "execution_count": 18,
   "metadata": {
    "collapsed": false,
    "deletable": true,
    "editable": true,
    "jupyter": {
     "outputs_hidden": false
    }
   },
   "outputs": [
    {
     "data": {
      "text/plain": [
       "[<matplotlib.lines.Line2D at 0x112c78cd0>]"
      ]
     },
     "execution_count": 18,
     "metadata": {},
     "output_type": "execute_result"
    },
    {
     "data": {
      "image/png": "[encoded data removed]",
      "text/plain": [
       "<Figure size 432x288 with 1 Axes>"
      ]
     },
     "metadata": {
      "needs_background": "light"
     },
     "output_type": "display_data"
    }
   ],
   "source": [
    "r = requests.get('https://paleobiodb.org/data1.1/occs/list.csv?limit=all&interval_id=40&base_id=4524&show=coords,attr,loc,prot,time,strat,stratext,lith,lithext,geo,rem,ent,entname,crmod&showsource')\n",
    "\n",
    "df = pd.read_csv(StringIO(r.text),skiprows=15)\n",
    "\n",
    "plt.plot(df.lng,df.lat,'.')\n"
   ]
  },
  {
   "cell_type": "markdown",
   "metadata": {
    "deletable": true,
    "editable": true
   },
   "source": [
    "#### Creating a GPlates Feature Collection\n",
    "\n",
    "To do something with these fossil data - either with GPlates or pygplates - we first need to convert the data into a 'feature collection'. The following example shows how to take the coordinates from each fossil occurence in the dataframe and make a GPlates 'Point feature'. We append each feature to a big list of features, then save this to a 'Feature Collection' that GPlates can read."
   ]
  },
  {
   "cell_type": "code",
   "execution_count": 19,
   "metadata": {
    "collapsed": false,
    "deletable": true,
    "editable": true,
    "jupyter": {
     "outputs_hidden": false
    }
   },
   "outputs": [],
   "source": [
    "import pygplates\n",
    "\n",
    "fossil_point_features = []\n",
    "for index,row in df.iterrows():\n",
    "    point = pygplates.PointOnSphere(float(row.lat),float(row.lng))\n",
    "    point_feature = pygplates.Feature()\n",
    "    point_feature.set_geometry(point)\n",
    "    fossil_point_features.append(point_feature)\n",
    "    \n",
    "# Having created a list of features, we need to tell pygplates that this is a coherent 'Feature Collection'\n",
    "# Then, we can save it to a file\n",
    "# [note that the file format is controlled by the file extension we enter - can be *.gpml, *.gmt or *.shp]\n",
    "output_feature_collection = pygplates.FeatureCollection(fossil_point_features)\n",
    "output_feature_collection.write('my_fossils.gpml')\n"
   ]
  },
  {
   "cell_type": "markdown",
   "metadata": {
    "deletable": true,
    "editable": true
   },
   "source": [
    "Load this feature collection into GPlates and look at it.\n",
    "\n",
    "Questions:\n",
    "- what information is missing from this feature collection that would be useful to assign to it?\n",
    "- how can we assign that information (either in GPlates or within the python notebook)?  \n",
    "\n",
    "HINTS: \n",
    "- one of the tutorials should help on this point\n",
    "- the set_shapefile_attribute('')\n"
   ]
  },
  {
   "cell_type": "markdown",
   "metadata": {
    "deletable": true,
    "editable": true
   },
   "source": [
    "### Part 2: Fossils and depositional environments\n",
    "\n",
    "The rest of this notebook begins to consider the question 'what do fossils tell us about paleoenvironments?'\n",
    "\n",
    "First, look at what types of attributes we have for each fossil, by listing the columns\n"
   ]
  },
  {
   "cell_type": "code",
   "execution_count": 20,
   "metadata": {
    "collapsed": false,
    "deletable": true,
    "editable": true,
    "jupyter": {
     "outputs_hidden": false
    }
   },
   "outputs": [
    {
     "data": {
      "text/plain": [
       "Index(['occurrence_no', 'record_type', 'reid_no', 'superceded',\n",
       "       'collection_no', 'taxon_name', 'taxon_rank', 'taxon_no', 'matched_name',\n",
       "       'matched_rank', 'matched_no', 'early_interval', 'late_interval',\n",
       "       'early_age', 'late_age', 'reference_no', 'lng', 'lat', 'cc', 'state',\n",
       "       'county', 'geogscale', 'protected', 'early_age.1', 'late_age.1',\n",
       "       'cx_int_no', 'early_int_no', 'late_int_no', 'formation', 'stratgroup',\n",
       "       'member', 'formation.1', 'stratgroup.1', 'member.1', 'stratscale',\n",
       "       'zone', 'localsection', 'localbed', 'localorder', 'regionalsection',\n",
       "       'regionalbed', 'regionalorder', 'stratcomments', 'lithdescript',\n",
       "       'lithology1', 'lithadj1', 'lithification1', 'minor_lithology1',\n",
       "       'fossilsfrom1', 'lithology2', 'lithadj2', 'lithification2',\n",
       "       'minor_lithology2', 'fossilsfrom2', 'lithdescript.1', 'lithology1.1',\n",
       "       'lithadj1.1', 'lithification1.1', 'minor_lithology1.1',\n",
       "       'fossilsfrom1.1', 'lithology2.1', 'lithadj2.1', 'lithification2.1',\n",
       "       'minor_lithology2.1', 'fossilsfrom2.1', 'environment',\n",
       "       'tectonic_setting', 'geology_comments', 'collection_aka',\n",
       "       'authorizer_no', 'enterer_no', 'modifier_no', 'authorizer', 'enterer',\n",
       "       'modifier', 'created', 'modified'],\n",
       "      dtype='object')"
      ]
     },
     "execution_count": 20,
     "metadata": {},
     "output_type": "execute_result"
    }
   ],
   "source": [
    "df.columns"
   ]
  },
  {
   "cell_type": "markdown",
   "metadata": {
    "deletable": true,
    "editable": true
   },
   "source": [
    "We are going to focus on the column called 'environment', which contains information about the sedimentary depositional environment of the rock that hosts the fossil (at least according to the interpretation of the geologist who found the fossil). Let's look at the values in that column (only the first part of the full dataframe is listed)"
   ]
  },
  {
   "cell_type": "code",
   "execution_count": 21,
   "metadata": {
    "collapsed": false,
    "deletable": true,
    "editable": true,
    "jupyter": {
     "outputs_hidden": false
    }
   },
   "outputs": [
    {
     "data": {
      "text/plain": [
       "0                 NaN\n",
       "1       marine indet.\n",
       "2                 NaN\n",
       "3                 NaN\n",
       "4                 NaN\n",
       "            ...      \n",
       "3210            slope\n",
       "3211            slope\n",
       "3212            slope\n",
       "3213            slope\n",
       "3214            slope\n",
       "Name: environment, Length: 3215, dtype: object"
      ]
     },
     "execution_count": 21,
     "metadata": {},
     "output_type": "execute_result"
    }
   ],
   "source": [
    "df.environment"
   ]
  },
  {
   "cell_type": "markdown",
   "metadata": {
    "deletable": true,
    "editable": true
   },
   "source": [
    "A useful method that can be applied to pandas dataframes is 'unique' - this lists all the different unique types of enivironment that are found in the 'environment' column. "
   ]
  },
  {
   "cell_type": "code",
   "execution_count": 23,
   "metadata": {
    "collapsed": false,
    "deletable": true,
    "editable": true,
    "jupyter": {
     "outputs_hidden": false
    }
   },
   "outputs": [
    {
     "name": "stdout",
     "output_type": "stream",
     "text": [
      "[nan 'marine indet.' 'shallow subtidal indet.' 'reef, buildup or bioherm'\n",
      " 'deep subtidal shelf' 'open shallow subtidal'\n",
      " 'lagoonal/restricted shallow subtidal' 'marginal marine indet.'\n",
      " 'shoreface' 'deltaic indet.' 'offshore' 'deep subtidal ramp'\n",
      " 'perireef or subreef' 'coastal indet.' 'basinal (siliciclastic)'\n",
      " 'platform/shelf-margin reef' 'slope' 'deep subtidal indet.'\n",
      " 'carbonate indet.' 'offshore indet.' 'offshore ramp' 'slope/ramp reef'\n",
      " 'transition zone/lower shoreface' 'lacustrine deltaic indet.']\n"
     ]
    }
   ],
   "source": [
    "print(df.environment.unique())\n"
   ]
  },
  {
   "cell_type": "markdown",
   "metadata": {
    "deletable": true,
    "editable": true
   },
   "source": [
    "when we load data into a pandas dataframe object, we have access to a wide variety of methods that can operate on the data. For example, suppose we want to find all the rows in the dataframe where the 'environment' field contains the string 'marine' somewhere within the environment description: "
   ]
  },
  {
   "cell_type": "code",
   "execution_count": 24,
   "metadata": {
    "collapsed": false,
    "deletable": true,
    "editable": true,
    "jupyter": {
     "outputs_hidden": false
    }
   },
   "outputs": [
    {
     "data": {
      "text/plain": [
       "0         NaN\n",
       "1        True\n",
       "2         NaN\n",
       "3         NaN\n",
       "4         NaN\n",
       "        ...  \n",
       "3210    False\n",
       "3211    False\n",
       "3212    False\n",
       "3213    False\n",
       "3214    False\n",
       "Name: environment, Length: 3215, dtype: object"
      ]
     },
     "execution_count": 24,
     "metadata": {},
     "output_type": "execute_result"
    }
   ],
   "source": [
    "df.environment.str.contains('marine')"
   ]
  },
  {
   "cell_type": "markdown",
   "metadata": {
    "deletable": true,
    "editable": true
   },
   "source": [
    "In the above, we get back a list of boolean results that are True where the environment string contains marine, False where it does not (And NaN, Not-a-Number, where the original field was also NaN)\n",
    "\n",
    "We can use this result as an index to create a new, smaller dataframe that only contains the rows where the criteria we set are satisfied. Once we've made the subset dataframe, we can print the unique values in the environment column just for that dataframe, to check that our selection has worked. "
   ]
  },
  {
   "cell_type": "code",
   "execution_count": 25,
   "metadata": {
    "collapsed": false,
    "deletable": true,
    "editable": true,
    "jupyter": {
     "outputs_hidden": false
    }
   },
   "outputs": [
    {
     "name": "stdout",
     "output_type": "stream",
     "text": [
      "[nan 'marine indet.' 'marginal marine indet.']\n"
     ]
    }
   ],
   "source": [
    "subset = df.where(df.environment.str.contains('marine'))\n",
    "\n",
    "print(subset.environment.unique())"
   ]
  },
  {
   "cell_type": "markdown",
   "metadata": {
    "deletable": true,
    "editable": true
   },
   "source": [
    "To see the spatial distribution of the data we have selected, we can plot a quick map "
   ]
  },
  {
   "cell_type": "code",
   "execution_count": 26,
   "metadata": {
    "collapsed": false,
    "deletable": true,
    "editable": true,
    "jupyter": {
     "outputs_hidden": false
    }
   },
   "outputs": [
    {
     "data": {
      "image/png": "[encoded data removed]",
      "text/plain": [
       "<Figure size 432x288 with 1 Axes>"
      ]
     },
     "metadata": {
      "needs_background": "light"
     },
     "output_type": "display_data"
    }
   ],
   "source": [
    "plt.plot(df.lng,df.lat,'b.')\n",
    "plt.plot(subset.lng,subset.lat,'ro')\n",
    "plt.show()\n"
   ]
  },
  {
   "cell_type": "markdown",
   "metadata": {
    "deletable": true,
    "editable": true
   },
   "source": [
    "#### Questions\n",
    "\n",
    "- what happens when you try a different search string? For example 'reef', or 'offshore'?\n",
    "- how will you precisely formulate a test of consistency between paleoshorelines and the fossil points?\n"
   ]
  },
  {
   "cell_type": "code",
   "execution_count": null,
   "metadata": {
    "collapsed": true,
    "deletable": true,
    "editable": true,
    "jupyter": {
     "outputs_hidden": true
    }
   },
   "outputs": [],
   "source": []
  }
 ],
 "metadata": {
  "kernelspec": {
   "display_name": "Python [conda env:pygmt]",
   "language": "python",
   "name": "conda-env-pygmt-py"
  },
  "language_info": {
   "codemirror_mode": {
    "name": "ipython",
    "version": 3
   },
   "file_extension": ".py",
   "mimetype": "text/x-python",
   "name": "python",
   "nbconvert_exporter": "python",
   "pygments_lexer": "ipython3",
   "version": "3.8.6"
  }
 },
 "nbformat": 4,
 "nbformat_minor": 4
}
